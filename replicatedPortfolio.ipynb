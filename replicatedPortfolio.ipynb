{
 "nbformat": 4,
 "nbformat_minor": 2,
 "metadata": {
  "language_info": {
   "name": "python",
   "codemirror_mode": {
    "name": "ipython",
    "version": 3
   },
   "version": "3.7.3-final"
  },
  "orig_nbformat": 2,
  "file_extension": ".py",
  "mimetype": "text/x-python",
  "name": "python",
  "npconvert_exporter": "python",
  "pygments_lexer": "ipython3",
  "version": 3,
  "kernelspec": {
   "name": "python37364bitbaseconda5994b4e167854476be8aec73de17ebc4",
   "display_name": "Python 3.7.3 64-bit ('base': conda)"
  }
 },
 "cells": [
  {
   "cell_type": "code",
   "execution_count": 33,
   "metadata": {},
   "outputs": [
    {
     "name": "stdout",
     "output_type": "stream",
     "text": "\nLooking for [chromedriver 79.0.3945.36 win32] driver in cache\nFile found in cache by path [C:\\Users\\lukes\\.wdm\\drivers\\chromedriver\\79.0.3945.36\\win32\\chromedriver.exe]\n{'AAPL': {'percent': 4.37}, 'MSFT': {'percent': 3.99}, 'AMZN': {'percent': 2.56}, 'FB': {'percent': 1.64}, 'BRK.B': {'percent': 1.48}, 'JPM': {'percent': 1.45}, 'GOOG': {'percent': 1.34}, 'GOOGL': {'percent': 1.34}, 'JNJ': {'percent': 1.3}, 'V': {'percent': 1.08}, 'PG': {'percent': 1.03}, 'XOM': {'percent': 0.99}, 'BAC': {'percent': 0.96}, 'T': {'percent': 0.95}, 'UNH': {'percent': 0.93}, 'MA': {'percent': 0.89}, 'INTC': {'percent': 0.87}, 'VZ': {'percent': 0.85}, 'DIS': {'percent': 0.84}, 'HD': {'percent': 0.81}, 'MRK': {'percent': 0.78}, 'CVX': {'percent': 0.77}, 'PFE': {'percent': 0.73}, 'KO': {'percent': 0.71}, 'CSCO': {'percent': 0.69}}\n"
    }
   ],
   "source": [
    "# Libraries\n",
    "import quandl\n",
    "import numpy as np\n",
    "import pandas as pd\n",
    "import matplotlib.pyplot as plt\n",
    "import pandas_datareader.data as data\n",
    "import datetime\n",
    "import json\n",
    "\n",
    "asset_dict = {}\n",
    "\n",
    "# Assets\n",
    "russell_index = [\"^RUI\"]\n",
    "tickers = [\"AMZN\", \"GOOG\", \"MSFT\"]\n",
    "\n",
    "# Set timeframe\n",
    "start = \"2015-12-07\"\n",
    "end = \"2019-03-31\"\n",
    "\n",
    "def russell():\n",
    "    # Pull data from Yahoo! Finance for Russell 1000 Index\n",
    "    df = data.DataReader(russell_index, data_source=\"yahoo\", start=start, end=end)\n",
    "\n",
    "    percentage = df.pct_change()\n",
    "    russellReturn = percentage[\"Adj Close\"]\n",
    "\n",
    "    return russellReturn\n",
    "\n",
    "\n",
    "#russell()\n",
    "\n",
    "\n",
    "\n",
    "exec(open(\"scrapeETF.py\").read())\n",
    "\n",
    "print(asset_dict)\n",
    "\n",
    "\n"
   ]
  },
  {
   "cell_type": "code",
   "execution_count": 45,
   "metadata": {},
   "outputs": [
    {
     "ename": "KeyError",
     "evalue": "0",
     "output_type": "error",
     "traceback": [
      "\u001b[1;31m---------------------------------------------------------------------------\u001b[0m",
      "\u001b[1;31mKeyError\u001b[0m                                  Traceback (most recent call last)",
      "\u001b[1;32m<ipython-input-45-9b485dafb3d3>\u001b[0m in \u001b[0;36m<module>\u001b[1;34m\u001b[0m\n\u001b[0;32m      9\u001b[0m \u001b[1;33m\u001b[0m\u001b[0m\n\u001b[0;32m     10\u001b[0m     \u001b[1;32mreturn\u001b[0m \u001b[0mreplicate\u001b[0m\u001b[1;33m\u001b[0m\u001b[1;33m\u001b[0m\u001b[0m\n\u001b[1;32m---> 11\u001b[1;33m \u001b[0mportfolio\u001b[0m\u001b[1;33m(\u001b[0m\u001b[1;33m)\u001b[0m\u001b[1;33m\u001b[0m\u001b[1;33m\u001b[0m\u001b[0m\n\u001b[0m",
      "\u001b[1;32m<ipython-input-45-9b485dafb3d3>\u001b[0m in \u001b[0;36mportfolio\u001b[1;34m()\u001b[0m\n\u001b[0;32m      5\u001b[0m         \u001b[0mdf\u001b[0m \u001b[1;33m=\u001b[0m \u001b[0mdata\u001b[0m\u001b[1;33m.\u001b[0m\u001b[0mDataReader\u001b[0m\u001b[1;33m(\u001b[0m\u001b[0mtickers\u001b[0m\u001b[1;33m,\u001b[0m \u001b[0mdata_source\u001b[0m\u001b[1;33m=\u001b[0m\u001b[1;34m\"yahoo\"\u001b[0m\u001b[1;33m,\u001b[0m \u001b[0mstart\u001b[0m\u001b[1;33m=\u001b[0m\u001b[0mstart\u001b[0m\u001b[1;33m,\u001b[0m \u001b[0mend\u001b[0m\u001b[1;33m=\u001b[0m\u001b[0mend\u001b[0m\u001b[1;33m)\u001b[0m\u001b[1;33m\u001b[0m\u001b[1;33m\u001b[0m\u001b[0m\n\u001b[0;32m      6\u001b[0m \u001b[1;33m\u001b[0m\u001b[0m\n\u001b[1;32m----> 7\u001b[1;33m         \u001b[0mreplicate\u001b[0m \u001b[1;33m=\u001b[0m \u001b[0mdf\u001b[0m\u001b[1;33m[\u001b[0m\u001b[1;34m'Adj Close'\u001b[0m\u001b[1;33m]\u001b[0m \u001b[1;33m*\u001b[0m \u001b[1;33m(\u001b[0m\u001b[0masset_dict\u001b[0m\u001b[1;33m[\u001b[0m\u001b[0mi\u001b[0m\u001b[1;33m]\u001b[0m\u001b[1;33m[\u001b[0m\u001b[1;34m'percent'\u001b[0m\u001b[1;33m]\u001b[0m \u001b[1;33m/\u001b[0m \u001b[1;36m100\u001b[0m\u001b[1;33m)\u001b[0m\u001b[1;33m\u001b[0m\u001b[1;33m\u001b[0m\u001b[0m\n\u001b[0m\u001b[0;32m      8\u001b[0m \u001b[1;33m\u001b[0m\u001b[0m\n\u001b[0;32m      9\u001b[0m \u001b[1;33m\u001b[0m\u001b[0m\n",
      "\u001b[1;31mKeyError\u001b[0m: 0"
     ]
    }
   ],
   "source": [
    "\n",
    "def portfolio():\n",
    "    for i, ticker in enumerate(tickers):\n",
    "\n",
    "        df = data.DataReader(tickers, data_source=\"yahoo\", start=start, end=end)\n",
    "\n",
    "        replicate = df['Adj Close'] * (asset_dict['AAPL']['percent'] / 100)\n",
    "\n",
    "\n",
    "    return replicate\n",
    "portfolio()"
   ]
  },
  {
   "cell_type": "code",
   "execution_count": null,
   "metadata": {},
   "outputs": [],
   "source": []
  }
 ]
}