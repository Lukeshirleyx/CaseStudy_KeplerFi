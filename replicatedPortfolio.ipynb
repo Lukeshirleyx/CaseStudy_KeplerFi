{
 "nbformat": 4,
 "nbformat_minor": 2,
 "metadata": {
  "language_info": {
   "name": "python",
   "codemirror_mode": {
    "name": "ipython",
    "version": 3
   },
   "version": "3.7.3-final"
  },
  "orig_nbformat": 2,
  "file_extension": ".py",
  "mimetype": "text/x-python",
  "name": "python",
  "npconvert_exporter": "python",
  "pygments_lexer": "ipython3",
  "version": 3,
  "kernelspec": {
   "name": "python37364bitbaseconda5994b4e167854476be8aec73de17ebc4",
   "display_name": "Python 3.7.3 64-bit ('base': conda)"
  }
 },
 "cells": [
  {
   "cell_type": "code",
   "execution_count": 6,
   "metadata": {},
   "outputs": [
    {
     "name": "stdout",
     "output_type": "stream",
     "text": "\nLooking for [chromedriver 79.0.3945.36 win32] driver in cache\nFile found in cache by path [C:\\Users\\lukes\\.wdm\\drivers\\chromedriver\\79.0.3945.36\\win32\\chromedriver.exe]\n"
    },
    {
     "data": {
      "text/plain": "['AAPL',\n 'MSFT',\n 'AMZN',\n 'FB',\n 'BRK-B',\n 'JPM',\n 'GOOG',\n 'GOOGL',\n 'JNJ',\n 'V',\n 'PG',\n 'XOM',\n 'BAC',\n 'T',\n 'UNH',\n 'MA',\n 'INTC',\n 'VZ',\n 'DIS',\n 'HD',\n 'MRK',\n 'CVX',\n 'PFE',\n 'KO',\n 'CSCO']"
     },
     "execution_count": 6,
     "metadata": {},
     "output_type": "execute_result"
    }
   ],
   "source": [
    "# Libraries\n",
    "from bs4 import BeautifulSoup\n",
    "import numpy as np\n",
    "import pandas as pd\n",
    "import matplotlib.pyplot as plt\n",
    "import pandas_datareader.data as data\n",
    "import datetime\n",
    "import json\n",
    "from yahoofinancials import YahooFinancials\n",
    "from selenium import webdriver\n",
    "from selenium.webdriver.chrome.webdriver import WebDriver\n",
    "from webdriver_manager.chrome import ChromeDriverManager\n",
    "import re\n",
    "import requests\n",
    "import warnings\n",
    "\n",
    "\n",
    "\n",
    "\n",
    "asset_dict = {}\n",
    "\n",
    "# Assets\n",
    "russell_index = [\"^RUI\"]\n",
    "tickers = []\n",
    "\n",
    "# Set timeframe\n",
    "start = \"2019-03-31\"\n",
    "end = \"2019-04-29\"\n",
    "\n",
    "def russell():\n",
    "    # Pull data from Yahoo! Finance for Russell 1000 Index\n",
    "    df = data.DataReader(russell_index, data_source=\"yahoo\", start=start, end=end)\n",
    "\n",
    "    percentage = df.pct_change()\n",
    "    russellReturn = percentage[\"Adj Close\"]\n",
    "\n",
    "    return russellReturn\n",
    "\n",
    "\n",
    "#russell()\n",
    "\n",
    "def pullTickers():\n",
    "    exec(open(\"scrapeETF.py\").read())\n",
    "\n",
    "    list(asset_dict.keys())\n",
    "\n",
    "    for key in asset_dict.keys():\n",
    "        tickers.append(key.replace('.','-'))\n",
    "    return tickers\n",
    "\n",
    "\n",
    "pullTickers()\n",
    "\n"
   ]
  },
  {
   "cell_type": "code",
   "execution_count": 110,
   "metadata": {},
   "outputs": [
    {
     "name": "stdout",
     "output_type": "stream",
     "text": "4384030208\n"
    }
   ],
   "source": [
    "yahoo_financials = YahooFinancials('AAPL')\n",
    "print(yahoo_financials.get_key_statistics_data()['AAPL']['sharesOutstanding'])"
   ]
  },
  {
   "cell_type": "code",
   "execution_count": 102,
   "metadata": {},
   "outputs": [
    {
     "name": "stdout",
     "output_type": "stream",
     "text": "{'2019-03-31': {'capitalSurplus': 28059000000, 'totalLiab': 129692000000, 'totalStockholderEquity': 48410000000, 'otherCurrentLiab': 7298000000, 'totalAssets': 178102000000, 'commonStock': 5000000, 'otherCurrentAssets': 359000000, 'retainedEarnings': 23193000000, 'otherLiab': 9400000000, 'goodWill': 14708000000, 'treasuryStock': -2847000000, 'otherAssets': 12189000000, 'cash': 23115000000, 'totalCurrentLiabilities': 63695000000, 'shortLongTermDebt': 1608000000, 'otherStockholderEquity': -1010000000, 'propertyPlantEquipment': 81180000000, 'totalCurrentAssets': 69431000000, 'longTermInvestments': 594000000, 'netTangibleAssets': 33702000000, 'shortTermInvestments': 13905000000, 'netReceivables': 15620000000, 'longTermDebt': 23322000000, 'inventory': 16432000000, 'accountsPayable': 31809000000}}\n"
    }
   ],
   "source": [
    "yahoo_financials = YahooFinancials('AMZN')\n",
    "print(yahoo_financials.get_financial_stmts('quarterly', 'balance')['balanceSheetHistoryQuarterly']['AMZN'][2])"
   ]
  },
  {
   "cell_type": "code",
   "execution_count": 31,
   "metadata": {},
   "outputs": [
    {
     "name": "stdout",
     "output_type": "stream",
     "text": "77791000000\n"
    }
   ],
   "source": [
    "yahoo_financials = YahooFinancials('MSFT')\n",
    "print(yahoo_financials.get_financial_stmts('quarterly', 'balance')['balanceSheetHistoryQuarterly']['MSFT'][2]['2019-03-31']['commonStock'])"
   ]
  },
  {
   "cell_type": "code",
   "execution_count": 105,
   "metadata": {},
   "outputs": [
    {
     "name": "stdout",
     "output_type": "stream",
     "text": "{'AAPL': 41454000000}\n{'AAPL': 41454000000, 'MSFT': 73996000000}\n{'AAPL': 41454000000, 'MSFT': 73996000000, 'AMZN': 21360000000}\n"
    },
    {
     "ename": "KeyboardInterrupt",
     "evalue": "",
     "output_type": "error",
     "traceback": [
      "\u001b[1;31m---------------------------------------------------------------------------\u001b[0m",
      "\u001b[1;31mKeyboardInterrupt\u001b[0m                         Traceback (most recent call last)",
      "\u001b[1;32m<ipython-input-105-7aae373c0c8b>\u001b[0m in \u001b[0;36m<module>\u001b[1;34m\u001b[0m\n\u001b[0;32m     26\u001b[0m \u001b[1;33m\u001b[0m\u001b[0m\n\u001b[0;32m     27\u001b[0m         \u001b[0mprint\u001b[0m\u001b[1;33m(\u001b[0m\u001b[0msharesOutstanding\u001b[0m\u001b[1;33m)\u001b[0m\u001b[1;33m\u001b[0m\u001b[1;33m\u001b[0m\u001b[0m\n\u001b[1;32m---> 28\u001b[1;33m \u001b[0mpullFundamentals\u001b[0m\u001b[1;33m(\u001b[0m\u001b[1;33m)\u001b[0m\u001b[1;33m\u001b[0m\u001b[1;33m\u001b[0m\u001b[0m\n\u001b[0m",
      "\u001b[1;32m<ipython-input-105-7aae373c0c8b>\u001b[0m in \u001b[0;36mpullFundamentals\u001b[1;34m()\u001b[0m\n\u001b[0;32m      5\u001b[0m     \u001b[1;32mfor\u001b[0m \u001b[0mi\u001b[0m \u001b[1;32min\u001b[0m \u001b[0mtickers\u001b[0m\u001b[1;33m:\u001b[0m\u001b[1;33m\u001b[0m\u001b[1;33m\u001b[0m\u001b[0m\n\u001b[0;32m      6\u001b[0m         \u001b[0myahoo_financials\u001b[0m \u001b[1;33m=\u001b[0m \u001b[0mYahooFinancials\u001b[0m\u001b[1;33m(\u001b[0m\u001b[0mi\u001b[0m\u001b[1;33m)\u001b[0m\u001b[1;33m\u001b[0m\u001b[1;33m\u001b[0m\u001b[0m\n\u001b[1;32m----> 7\u001b[1;33m         \u001b[0mcommon\u001b[0m \u001b[1;33m=\u001b[0m \u001b[0myahoo_financials\u001b[0m\u001b[1;33m.\u001b[0m\u001b[0mget_financial_stmts\u001b[0m\u001b[1;33m(\u001b[0m\u001b[1;34m'quarterly'\u001b[0m\u001b[1;33m,\u001b[0m \u001b[1;34m'balance'\u001b[0m\u001b[1;33m)\u001b[0m\u001b[1;33m[\u001b[0m\u001b[1;34m\"balanceSheetHistoryQuarterly\"\u001b[0m\u001b[1;33m]\u001b[0m\u001b[1;33m[\u001b[0m\u001b[0mi\u001b[0m\u001b[1;33m]\u001b[0m\u001b[1;33m[\u001b[0m\u001b[1;36m2\u001b[0m\u001b[1;33m]\u001b[0m\u001b[1;33m\u001b[0m\u001b[1;33m\u001b[0m\u001b[0m\n\u001b[0m\u001b[0;32m      8\u001b[0m         \u001b[0mqtr_2\u001b[0m \u001b[1;33m=\u001b[0m \u001b[0mlist\u001b[0m\u001b[1;33m(\u001b[0m\u001b[0mcommon\u001b[0m\u001b[1;33m.\u001b[0m\u001b[0mkeys\u001b[0m\u001b[1;33m(\u001b[0m\u001b[1;33m)\u001b[0m\u001b[1;33m)\u001b[0m\u001b[1;33m[\u001b[0m\u001b[1;36m0\u001b[0m\u001b[1;33m]\u001b[0m\u001b[1;33m\u001b[0m\u001b[1;33m\u001b[0m\u001b[0m\n\u001b[0;32m      9\u001b[0m         \u001b[0mcommonStock\u001b[0m \u001b[1;33m=\u001b[0m \u001b[0mcommon\u001b[0m\u001b[1;33m[\u001b[0m\u001b[0mqtr_2\u001b[0m\u001b[1;33m]\u001b[0m\u001b[1;33m[\u001b[0m\u001b[1;34m'totalStockholderEquity'\u001b[0m\u001b[1;33m]\u001b[0m\u001b[1;33m\u001b[0m\u001b[1;33m\u001b[0m\u001b[0m\n",
      "\u001b[1;32m~\\Anaconda3\\lib\\site-packages\\yahoofinancials\\__init__.py\u001b[0m in \u001b[0;36mget_financial_stmts\u001b[1;34m(self, frequency, statement_type, reformat)\u001b[0m\n\u001b[0;32m    590\u001b[0m         \u001b[0mreport_num\u001b[0m \u001b[1;33m=\u001b[0m \u001b[0mself\u001b[0m\u001b[1;33m.\u001b[0m\u001b[0mget_report_type\u001b[0m\u001b[1;33m(\u001b[0m\u001b[0mfrequency\u001b[0m\u001b[1;33m)\u001b[0m\u001b[1;33m\u001b[0m\u001b[1;33m\u001b[0m\u001b[0m\n\u001b[0;32m    591\u001b[0m         \u001b[1;32mif\u001b[0m \u001b[0misinstance\u001b[0m\u001b[1;33m(\u001b[0m\u001b[0mstatement_type\u001b[0m\u001b[1;33m,\u001b[0m \u001b[0mstr\u001b[0m\u001b[1;33m)\u001b[0m\u001b[1;33m:\u001b[0m\u001b[1;33m\u001b[0m\u001b[1;33m\u001b[0m\u001b[0m\n\u001b[1;32m--> 592\u001b[1;33m             \u001b[0mdata\u001b[0m \u001b[1;33m=\u001b[0m \u001b[0mself\u001b[0m\u001b[1;33m.\u001b[0m\u001b[0m_run_financial_stmt\u001b[0m\u001b[1;33m(\u001b[0m\u001b[0mstatement_type\u001b[0m\u001b[1;33m,\u001b[0m \u001b[0mreport_num\u001b[0m\u001b[1;33m,\u001b[0m \u001b[0mreformat\u001b[0m\u001b[1;33m)\u001b[0m\u001b[1;33m\u001b[0m\u001b[1;33m\u001b[0m\u001b[0m\n\u001b[0m\u001b[0;32m    593\u001b[0m         \u001b[1;32melse\u001b[0m\u001b[1;33m:\u001b[0m\u001b[1;33m\u001b[0m\u001b[1;33m\u001b[0m\u001b[0m\n\u001b[0;32m    594\u001b[0m             \u001b[0mdata\u001b[0m \u001b[1;33m=\u001b[0m \u001b[1;33m{\u001b[0m\u001b[1;33m}\u001b[0m\u001b[1;33m\u001b[0m\u001b[1;33m\u001b[0m\u001b[0m\n",
      "\u001b[1;32m~\\Anaconda3\\lib\\site-packages\\yahoofinancials\\__init__.py\u001b[0m in \u001b[0;36m_run_financial_stmt\u001b[1;34m(self, statement_type, report_num, reformat)\u001b[0m\n\u001b[0;32m    580\u001b[0m         \u001b[0mreport_name\u001b[0m \u001b[1;33m=\u001b[0m \u001b[0mself\u001b[0m\u001b[1;33m.\u001b[0m\u001b[0mYAHOO_FINANCIAL_TYPES\u001b[0m\u001b[1;33m[\u001b[0m\u001b[0mstatement_type\u001b[0m\u001b[1;33m]\u001b[0m\u001b[1;33m[\u001b[0m\u001b[0mreport_num\u001b[0m\u001b[1;33m]\u001b[0m\u001b[1;33m\u001b[0m\u001b[1;33m\u001b[0m\u001b[0m\n\u001b[0;32m    581\u001b[0m         \u001b[1;32mif\u001b[0m \u001b[0mreformat\u001b[0m\u001b[1;33m:\u001b[0m\u001b[1;33m\u001b[0m\u001b[1;33m\u001b[0m\u001b[0m\n\u001b[1;32m--> 582\u001b[1;33m             \u001b[0mraw_data\u001b[0m \u001b[1;33m=\u001b[0m \u001b[0mself\u001b[0m\u001b[1;33m.\u001b[0m\u001b[0mget_stock_data\u001b[0m\u001b[1;33m(\u001b[0m\u001b[0mstatement_type\u001b[0m\u001b[1;33m,\u001b[0m \u001b[0mreport_name\u001b[0m\u001b[1;33m=\u001b[0m\u001b[0mreport_name\u001b[0m\u001b[1;33m)\u001b[0m\u001b[1;33m\u001b[0m\u001b[1;33m\u001b[0m\u001b[0m\n\u001b[0m\u001b[0;32m    583\u001b[0m             \u001b[0mdata\u001b[0m \u001b[1;33m=\u001b[0m \u001b[0mself\u001b[0m\u001b[1;33m.\u001b[0m\u001b[0mget_reformatted_stmt_data\u001b[0m\u001b[1;33m(\u001b[0m\u001b[0mraw_data\u001b[0m\u001b[1;33m,\u001b[0m \u001b[0mstatement_type\u001b[0m\u001b[1;33m)\u001b[0m\u001b[1;33m\u001b[0m\u001b[1;33m\u001b[0m\u001b[0m\n\u001b[0;32m    584\u001b[0m         \u001b[1;32melse\u001b[0m\u001b[1;33m:\u001b[0m\u001b[1;33m\u001b[0m\u001b[1;33m\u001b[0m\u001b[0m\n",
      "\u001b[1;32m~\\Anaconda3\\lib\\site-packages\\yahoofinancials\\__init__.py\u001b[0m in \u001b[0;36mget_stock_data\u001b[1;34m(self, statement_type, tech_type, report_name, hist_obj)\u001b[0m\n\u001b[0;32m    471\u001b[0m         \u001b[0mdata\u001b[0m \u001b[1;33m=\u001b[0m \u001b[1;33m{\u001b[0m\u001b[1;33m}\u001b[0m\u001b[1;33m\u001b[0m\u001b[1;33m\u001b[0m\u001b[0m\n\u001b[0;32m    472\u001b[0m         \u001b[1;32mif\u001b[0m \u001b[0misinstance\u001b[0m\u001b[1;33m(\u001b[0m\u001b[0mself\u001b[0m\u001b[1;33m.\u001b[0m\u001b[0mticker\u001b[0m\u001b[1;33m,\u001b[0m \u001b[0mstr\u001b[0m\u001b[1;33m)\u001b[0m\u001b[1;33m:\u001b[0m\u001b[1;33m\u001b[0m\u001b[1;33m\u001b[0m\u001b[0m\n\u001b[1;32m--> 473\u001b[1;33m             \u001b[0mdict_ent\u001b[0m \u001b[1;33m=\u001b[0m \u001b[0mself\u001b[0m\u001b[1;33m.\u001b[0m\u001b[0m_create_dict_ent\u001b[0m\u001b[1;33m(\u001b[0m\u001b[0mself\u001b[0m\u001b[1;33m.\u001b[0m\u001b[0mticker\u001b[0m\u001b[1;33m,\u001b[0m \u001b[0mstatement_type\u001b[0m\u001b[1;33m,\u001b[0m \u001b[0mtech_type\u001b[0m\u001b[1;33m,\u001b[0m \u001b[0mreport_name\u001b[0m\u001b[1;33m,\u001b[0m \u001b[0mhist_obj\u001b[0m\u001b[1;33m)\u001b[0m\u001b[1;33m\u001b[0m\u001b[1;33m\u001b[0m\u001b[0m\n\u001b[0m\u001b[0;32m    474\u001b[0m             \u001b[0mdata\u001b[0m\u001b[1;33m.\u001b[0m\u001b[0mupdate\u001b[0m\u001b[1;33m(\u001b[0m\u001b[0mdict_ent\u001b[0m\u001b[1;33m)\u001b[0m\u001b[1;33m\u001b[0m\u001b[1;33m\u001b[0m\u001b[0m\n\u001b[0;32m    475\u001b[0m         \u001b[1;32melse\u001b[0m\u001b[1;33m:\u001b[0m\u001b[1;33m\u001b[0m\u001b[1;33m\u001b[0m\u001b[0m\n",
      "\u001b[1;32m~\\Anaconda3\\lib\\site-packages\\yahoofinancials\\__init__.py\u001b[0m in \u001b[0;36m_create_dict_ent\u001b[1;34m(self, up_ticker, statement_type, tech_type, report_name, hist_obj)\u001b[0m\n\u001b[0;32m    397\u001b[0m         \u001b[1;32mif\u001b[0m \u001b[0mtech_type\u001b[0m \u001b[1;33m==\u001b[0m \u001b[1;34m''\u001b[0m \u001b[1;32mand\u001b[0m \u001b[0mstatement_type\u001b[0m \u001b[1;33m!=\u001b[0m \u001b[1;34m'history'\u001b[0m\u001b[1;33m:\u001b[0m\u001b[1;33m\u001b[0m\u001b[1;33m\u001b[0m\u001b[0m\n\u001b[0;32m    398\u001b[0m             \u001b[1;32mtry\u001b[0m\u001b[1;33m:\u001b[0m\u001b[1;33m\u001b[0m\u001b[1;33m\u001b[0m\u001b[0m\n\u001b[1;32m--> 399\u001b[1;33m                 \u001b[0mre_data\u001b[0m \u001b[1;33m=\u001b[0m \u001b[0mself\u001b[0m\u001b[1;33m.\u001b[0m\u001b[0m_scrape_data\u001b[0m\u001b[1;33m(\u001b[0m\u001b[0mYAHOO_URL\u001b[0m\u001b[1;33m,\u001b[0m \u001b[0mtech_type\u001b[0m\u001b[1;33m,\u001b[0m \u001b[0mstatement_type\u001b[0m\u001b[1;33m)\u001b[0m\u001b[1;33m\u001b[0m\u001b[1;33m\u001b[0m\u001b[0m\n\u001b[0m\u001b[0;32m    400\u001b[0m                 \u001b[0mdict_ent\u001b[0m \u001b[1;33m=\u001b[0m \u001b[1;33m{\u001b[0m\u001b[0mup_ticker\u001b[0m\u001b[1;33m:\u001b[0m \u001b[0mre_data\u001b[0m\u001b[1;33m[\u001b[0m\u001b[1;34mu''\u001b[0m \u001b[1;33m+\u001b[0m \u001b[0mreport_name\u001b[0m\u001b[1;33m]\u001b[0m\u001b[1;33m,\u001b[0m \u001b[1;34m'dataType'\u001b[0m\u001b[1;33m:\u001b[0m \u001b[0mreport_name\u001b[0m\u001b[1;33m}\u001b[0m\u001b[1;33m\u001b[0m\u001b[1;33m\u001b[0m\u001b[0m\n\u001b[0;32m    401\u001b[0m             \u001b[1;32mexcept\u001b[0m \u001b[0mKeyError\u001b[0m\u001b[1;33m:\u001b[0m\u001b[1;33m\u001b[0m\u001b[1;33m\u001b[0m\u001b[0m\n",
      "\u001b[1;32m~\\Anaconda3\\lib\\site-packages\\yahoofinancials\\__init__.py\u001b[0m in \u001b[0;36m_scrape_data\u001b[1;34m(self, url, tech_type, statement_type)\u001b[0m\n\u001b[0;32m    147\u001b[0m                 \u001b[1;32melse\u001b[0m\u001b[1;33m:\u001b[0m\u001b[1;33m\u001b[0m\u001b[1;33m\u001b[0m\u001b[0m\n\u001b[0;32m    148\u001b[0m                     \u001b[0mresponse_content\u001b[0m \u001b[1;33m=\u001b[0m \u001b[0mresponse\u001b[0m\u001b[1;33m.\u001b[0m\u001b[0mread\u001b[0m\u001b[1;33m(\u001b[0m\u001b[1;33m)\u001b[0m\u001b[1;33m\u001b[0m\u001b[1;33m\u001b[0m\u001b[0m\n\u001b[1;32m--> 149\u001b[1;33m                     \u001b[0msoup\u001b[0m \u001b[1;33m=\u001b[0m \u001b[0mBeautifulSoup\u001b[0m\u001b[1;33m(\u001b[0m\u001b[0mresponse_content\u001b[0m\u001b[1;33m,\u001b[0m \u001b[1;34m\"html.parser\"\u001b[0m\u001b[1;33m)\u001b[0m\u001b[1;33m\u001b[0m\u001b[1;33m\u001b[0m\u001b[0m\n\u001b[0m\u001b[0;32m    150\u001b[0m                     \u001b[0mre_script\u001b[0m \u001b[1;33m=\u001b[0m \u001b[0msoup\u001b[0m\u001b[1;33m.\u001b[0m\u001b[0mfind\u001b[0m\u001b[1;33m(\u001b[0m\u001b[1;34m\"script\"\u001b[0m\u001b[1;33m,\u001b[0m \u001b[0mtext\u001b[0m\u001b[1;33m=\u001b[0m\u001b[0mre\u001b[0m\u001b[1;33m.\u001b[0m\u001b[0mcompile\u001b[0m\u001b[1;33m(\u001b[0m\u001b[1;34m\"root.App.main\"\u001b[0m\u001b[1;33m)\u001b[0m\u001b[1;33m)\u001b[0m\u001b[1;33m\u001b[0m\u001b[1;33m\u001b[0m\u001b[0m\n\u001b[0;32m    151\u001b[0m                     \u001b[1;32mif\u001b[0m \u001b[0mre_script\u001b[0m \u001b[1;32mis\u001b[0m \u001b[1;32mnot\u001b[0m \u001b[1;32mNone\u001b[0m\u001b[1;33m:\u001b[0m\u001b[1;33m\u001b[0m\u001b[1;33m\u001b[0m\u001b[0m\n",
      "\u001b[1;32m~\\Anaconda3\\lib\\site-packages\\bs4\\__init__.py\u001b[0m in \u001b[0;36m__init__\u001b[1;34m(self, markup, features, builder, parse_only, from_encoding, exclude_encodings, **kwargs)\u001b[0m\n\u001b[0;32m    279\u001b[0m             \u001b[0mself\u001b[0m\u001b[1;33m.\u001b[0m\u001b[0mreset\u001b[0m\u001b[1;33m(\u001b[0m\u001b[1;33m)\u001b[0m\u001b[1;33m\u001b[0m\u001b[1;33m\u001b[0m\u001b[0m\n\u001b[0;32m    280\u001b[0m             \u001b[1;32mtry\u001b[0m\u001b[1;33m:\u001b[0m\u001b[1;33m\u001b[0m\u001b[1;33m\u001b[0m\u001b[0m\n\u001b[1;32m--> 281\u001b[1;33m                 \u001b[0mself\u001b[0m\u001b[1;33m.\u001b[0m\u001b[0m_feed\u001b[0m\u001b[1;33m(\u001b[0m\u001b[1;33m)\u001b[0m\u001b[1;33m\u001b[0m\u001b[1;33m\u001b[0m\u001b[0m\n\u001b[0m\u001b[0;32m    282\u001b[0m                 \u001b[1;32mbreak\u001b[0m\u001b[1;33m\u001b[0m\u001b[1;33m\u001b[0m\u001b[0m\n\u001b[0;32m    283\u001b[0m             \u001b[1;32mexcept\u001b[0m \u001b[0mParserRejectedMarkup\u001b[0m\u001b[1;33m:\u001b[0m\u001b[1;33m\u001b[0m\u001b[1;33m\u001b[0m\u001b[0m\n",
      "\u001b[1;32m~\\Anaconda3\\lib\\site-packages\\bs4\\__init__.py\u001b[0m in \u001b[0;36m_feed\u001b[1;34m(self)\u001b[0m\n\u001b[0;32m    340\u001b[0m         \u001b[0mself\u001b[0m\u001b[1;33m.\u001b[0m\u001b[0mbuilder\u001b[0m\u001b[1;33m.\u001b[0m\u001b[0mreset\u001b[0m\u001b[1;33m(\u001b[0m\u001b[1;33m)\u001b[0m\u001b[1;33m\u001b[0m\u001b[1;33m\u001b[0m\u001b[0m\n\u001b[0;32m    341\u001b[0m \u001b[1;33m\u001b[0m\u001b[0m\n\u001b[1;32m--> 342\u001b[1;33m         \u001b[0mself\u001b[0m\u001b[1;33m.\u001b[0m\u001b[0mbuilder\u001b[0m\u001b[1;33m.\u001b[0m\u001b[0mfeed\u001b[0m\u001b[1;33m(\u001b[0m\u001b[0mself\u001b[0m\u001b[1;33m.\u001b[0m\u001b[0mmarkup\u001b[0m\u001b[1;33m)\u001b[0m\u001b[1;33m\u001b[0m\u001b[1;33m\u001b[0m\u001b[0m\n\u001b[0m\u001b[0;32m    343\u001b[0m         \u001b[1;31m# Close out any unfinished strings and close all the open tags.\u001b[0m\u001b[1;33m\u001b[0m\u001b[1;33m\u001b[0m\u001b[1;33m\u001b[0m\u001b[0m\n\u001b[0;32m    344\u001b[0m         \u001b[0mself\u001b[0m\u001b[1;33m.\u001b[0m\u001b[0mendData\u001b[0m\u001b[1;33m(\u001b[0m\u001b[1;33m)\u001b[0m\u001b[1;33m\u001b[0m\u001b[1;33m\u001b[0m\u001b[0m\n",
      "\u001b[1;32m~\\Anaconda3\\lib\\site-packages\\bs4\\builder\\_htmlparser.py\u001b[0m in \u001b[0;36mfeed\u001b[1;34m(self, markup)\u001b[0m\n\u001b[0;32m    245\u001b[0m         \u001b[0mparser\u001b[0m\u001b[1;33m.\u001b[0m\u001b[0msoup\u001b[0m \u001b[1;33m=\u001b[0m \u001b[0mself\u001b[0m\u001b[1;33m.\u001b[0m\u001b[0msoup\u001b[0m\u001b[1;33m\u001b[0m\u001b[1;33m\u001b[0m\u001b[0m\n\u001b[0;32m    246\u001b[0m         \u001b[1;32mtry\u001b[0m\u001b[1;33m:\u001b[0m\u001b[1;33m\u001b[0m\u001b[1;33m\u001b[0m\u001b[0m\n\u001b[1;32m--> 247\u001b[1;33m             \u001b[0mparser\u001b[0m\u001b[1;33m.\u001b[0m\u001b[0mfeed\u001b[0m\u001b[1;33m(\u001b[0m\u001b[0mmarkup\u001b[0m\u001b[1;33m)\u001b[0m\u001b[1;33m\u001b[0m\u001b[1;33m\u001b[0m\u001b[0m\n\u001b[0m\u001b[0;32m    248\u001b[0m             \u001b[0mparser\u001b[0m\u001b[1;33m.\u001b[0m\u001b[0mclose\u001b[0m\u001b[1;33m(\u001b[0m\u001b[1;33m)\u001b[0m\u001b[1;33m\u001b[0m\u001b[1;33m\u001b[0m\u001b[0m\n\u001b[0;32m    249\u001b[0m         \u001b[1;32mexcept\u001b[0m \u001b[0mHTMLParseError\u001b[0m \u001b[1;32mas\u001b[0m \u001b[0me\u001b[0m\u001b[1;33m:\u001b[0m\u001b[1;33m\u001b[0m\u001b[1;33m\u001b[0m\u001b[0m\n",
      "\u001b[1;32m~\\Anaconda3\\lib\\html\\parser.py\u001b[0m in \u001b[0;36mfeed\u001b[1;34m(self, data)\u001b[0m\n\u001b[0;32m    109\u001b[0m         \"\"\"\n\u001b[0;32m    110\u001b[0m         \u001b[0mself\u001b[0m\u001b[1;33m.\u001b[0m\u001b[0mrawdata\u001b[0m \u001b[1;33m=\u001b[0m \u001b[0mself\u001b[0m\u001b[1;33m.\u001b[0m\u001b[0mrawdata\u001b[0m \u001b[1;33m+\u001b[0m \u001b[0mdata\u001b[0m\u001b[1;33m\u001b[0m\u001b[1;33m\u001b[0m\u001b[0m\n\u001b[1;32m--> 111\u001b[1;33m         \u001b[0mself\u001b[0m\u001b[1;33m.\u001b[0m\u001b[0mgoahead\u001b[0m\u001b[1;33m(\u001b[0m\u001b[1;36m0\u001b[0m\u001b[1;33m)\u001b[0m\u001b[1;33m\u001b[0m\u001b[1;33m\u001b[0m\u001b[0m\n\u001b[0m\u001b[0;32m    112\u001b[0m \u001b[1;33m\u001b[0m\u001b[0m\n\u001b[0;32m    113\u001b[0m     \u001b[1;32mdef\u001b[0m \u001b[0mclose\u001b[0m\u001b[1;33m(\u001b[0m\u001b[0mself\u001b[0m\u001b[1;33m)\u001b[0m\u001b[1;33m:\u001b[0m\u001b[1;33m\u001b[0m\u001b[1;33m\u001b[0m\u001b[0m\n",
      "\u001b[1;32m~\\Anaconda3\\lib\\html\\parser.py\u001b[0m in \u001b[0;36mgoahead\u001b[1;34m(self, end)\u001b[0m\n\u001b[0;32m    169\u001b[0m             \u001b[1;32mif\u001b[0m \u001b[0mstartswith\u001b[0m\u001b[1;33m(\u001b[0m\u001b[1;34m'<'\u001b[0m\u001b[1;33m,\u001b[0m \u001b[0mi\u001b[0m\u001b[1;33m)\u001b[0m\u001b[1;33m:\u001b[0m\u001b[1;33m\u001b[0m\u001b[1;33m\u001b[0m\u001b[0m\n\u001b[0;32m    170\u001b[0m                 \u001b[1;32mif\u001b[0m \u001b[0mstarttagopen\u001b[0m\u001b[1;33m.\u001b[0m\u001b[0mmatch\u001b[0m\u001b[1;33m(\u001b[0m\u001b[0mrawdata\u001b[0m\u001b[1;33m,\u001b[0m \u001b[0mi\u001b[0m\u001b[1;33m)\u001b[0m\u001b[1;33m:\u001b[0m \u001b[1;31m# < + letter\u001b[0m\u001b[1;33m\u001b[0m\u001b[1;33m\u001b[0m\u001b[0m\n\u001b[1;32m--> 171\u001b[1;33m                     \u001b[0mk\u001b[0m \u001b[1;33m=\u001b[0m \u001b[0mself\u001b[0m\u001b[1;33m.\u001b[0m\u001b[0mparse_starttag\u001b[0m\u001b[1;33m(\u001b[0m\u001b[0mi\u001b[0m\u001b[1;33m)\u001b[0m\u001b[1;33m\u001b[0m\u001b[1;33m\u001b[0m\u001b[0m\n\u001b[0m\u001b[0;32m    172\u001b[0m                 \u001b[1;32melif\u001b[0m \u001b[0mstartswith\u001b[0m\u001b[1;33m(\u001b[0m\u001b[1;34m\"</\"\u001b[0m\u001b[1;33m,\u001b[0m \u001b[0mi\u001b[0m\u001b[1;33m)\u001b[0m\u001b[1;33m:\u001b[0m\u001b[1;33m\u001b[0m\u001b[1;33m\u001b[0m\u001b[0m\n\u001b[0;32m    173\u001b[0m                     \u001b[0mk\u001b[0m \u001b[1;33m=\u001b[0m \u001b[0mself\u001b[0m\u001b[1;33m.\u001b[0m\u001b[0mparse_endtag\u001b[0m\u001b[1;33m(\u001b[0m\u001b[0mi\u001b[0m\u001b[1;33m)\u001b[0m\u001b[1;33m\u001b[0m\u001b[1;33m\u001b[0m\u001b[0m\n",
      "\u001b[1;32m~\\Anaconda3\\lib\\html\\parser.py\u001b[0m in \u001b[0;36mparse_starttag\u001b[1;34m(self, i)\u001b[0m\n\u001b[0;32m    301\u001b[0m     \u001b[1;32mdef\u001b[0m \u001b[0mparse_starttag\u001b[0m\u001b[1;33m(\u001b[0m\u001b[0mself\u001b[0m\u001b[1;33m,\u001b[0m \u001b[0mi\u001b[0m\u001b[1;33m)\u001b[0m\u001b[1;33m:\u001b[0m\u001b[1;33m\u001b[0m\u001b[1;33m\u001b[0m\u001b[0m\n\u001b[0;32m    302\u001b[0m         \u001b[0mself\u001b[0m\u001b[1;33m.\u001b[0m\u001b[0m__starttag_text\u001b[0m \u001b[1;33m=\u001b[0m \u001b[1;32mNone\u001b[0m\u001b[1;33m\u001b[0m\u001b[1;33m\u001b[0m\u001b[0m\n\u001b[1;32m--> 303\u001b[1;33m         \u001b[0mendpos\u001b[0m \u001b[1;33m=\u001b[0m \u001b[0mself\u001b[0m\u001b[1;33m.\u001b[0m\u001b[0mcheck_for_whole_start_tag\u001b[0m\u001b[1;33m(\u001b[0m\u001b[0mi\u001b[0m\u001b[1;33m)\u001b[0m\u001b[1;33m\u001b[0m\u001b[1;33m\u001b[0m\u001b[0m\n\u001b[0m\u001b[0;32m    304\u001b[0m         \u001b[1;32mif\u001b[0m \u001b[0mendpos\u001b[0m \u001b[1;33m<\u001b[0m \u001b[1;36m0\u001b[0m\u001b[1;33m:\u001b[0m\u001b[1;33m\u001b[0m\u001b[1;33m\u001b[0m\u001b[0m\n\u001b[0;32m    305\u001b[0m             \u001b[1;32mreturn\u001b[0m \u001b[0mendpos\u001b[0m\u001b[1;33m\u001b[0m\u001b[1;33m\u001b[0m\u001b[0m\n",
      "\u001b[1;32m~\\Anaconda3\\lib\\html\\parser.py\u001b[0m in \u001b[0;36mcheck_for_whole_start_tag\u001b[1;34m(self, i)\u001b[0m\n\u001b[0;32m    353\u001b[0m         \u001b[0mrawdata\u001b[0m \u001b[1;33m=\u001b[0m \u001b[0mself\u001b[0m\u001b[1;33m.\u001b[0m\u001b[0mrawdata\u001b[0m\u001b[1;33m\u001b[0m\u001b[1;33m\u001b[0m\u001b[0m\n\u001b[0;32m    354\u001b[0m         \u001b[0mm\u001b[0m \u001b[1;33m=\u001b[0m \u001b[0mlocatestarttagend_tolerant\u001b[0m\u001b[1;33m.\u001b[0m\u001b[0mmatch\u001b[0m\u001b[1;33m(\u001b[0m\u001b[0mrawdata\u001b[0m\u001b[1;33m,\u001b[0m \u001b[0mi\u001b[0m\u001b[1;33m)\u001b[0m\u001b[1;33m\u001b[0m\u001b[1;33m\u001b[0m\u001b[0m\n\u001b[1;32m--> 355\u001b[1;33m         \u001b[1;32mif\u001b[0m \u001b[0mm\u001b[0m\u001b[1;33m:\u001b[0m\u001b[1;33m\u001b[0m\u001b[1;33m\u001b[0m\u001b[0m\n\u001b[0m\u001b[0;32m    356\u001b[0m             \u001b[0mj\u001b[0m \u001b[1;33m=\u001b[0m \u001b[0mm\u001b[0m\u001b[1;33m.\u001b[0m\u001b[0mend\u001b[0m\u001b[1;33m(\u001b[0m\u001b[1;33m)\u001b[0m\u001b[1;33m\u001b[0m\u001b[1;33m\u001b[0m\u001b[0m\n\u001b[0;32m    357\u001b[0m             \u001b[0mnext\u001b[0m \u001b[1;33m=\u001b[0m \u001b[0mrawdata\u001b[0m\u001b[1;33m[\u001b[0m\u001b[0mj\u001b[0m\u001b[1;33m:\u001b[0m\u001b[0mj\u001b[0m\u001b[1;33m+\u001b[0m\u001b[1;36m1\u001b[0m\u001b[1;33m]\u001b[0m\u001b[1;33m\u001b[0m\u001b[1;33m\u001b[0m\u001b[0m\n",
      "\u001b[1;31mKeyboardInterrupt\u001b[0m: "
     ]
    }
   ],
   "source": [
    "replicatedWeights = {}\n",
    "\n",
    "\n",
    "def pullFundamentals():\n",
    "\n",
    "    for i in tickers:\n",
    "        yahoo_financials = YahooFinancials(i)\n",
    "        \n",
    "        replicatedWeights[i] = price / marketCap\n",
    "        \n",
    "pullFundamentals()"
   ]
  },
  {
   "cell_type": "code",
   "execution_count": 85,
   "metadata": {},
   "outputs": [
    {
     "data": {
      "text/html": "<div>\n<style scoped>\n    .dataframe tbody tr th:only-of-type {\n        vertical-align: middle;\n    }\n\n    .dataframe tbody tr th {\n        vertical-align: top;\n    }\n\n    .dataframe thead th {\n        text-align: right;\n    }\n</style>\n<table border=\"1\" class=\"dataframe\">\n  <thead>\n    <tr style=\"text-align: right;\">\n      <th>Symbols</th>\n      <th>AAPL</th>\n      <th>AMZN</th>\n      <th>BAC</th>\n      <th>BRK-B</th>\n      <th>CSCO</th>\n      <th>CVX</th>\n      <th>DIS</th>\n      <th>FB</th>\n      <th>GOOG</th>\n      <th>GOOGL</th>\n      <th>...</th>\n      <th>MA</th>\n      <th>MRK</th>\n      <th>MSFT</th>\n      <th>PFE</th>\n      <th>PG</th>\n      <th>T</th>\n      <th>UNH</th>\n      <th>V</th>\n      <th>VZ</th>\n      <th>XOM</th>\n    </tr>\n    <tr>\n      <th>Date</th>\n      <th></th>\n      <th></th>\n      <th></th>\n      <th></th>\n      <th></th>\n      <th></th>\n      <th></th>\n      <th></th>\n      <th></th>\n      <th></th>\n      <th></th>\n      <th></th>\n      <th></th>\n      <th></th>\n      <th></th>\n      <th></th>\n      <th></th>\n      <th></th>\n      <th></th>\n      <th></th>\n      <th></th>\n    </tr>\n  </thead>\n  <tbody>\n    <tr>\n      <th>2019-04-01</th>\n      <td>189.217209</td>\n      <td>1814.189941</td>\n      <td>28.047619</td>\n      <td>205.000000</td>\n      <td>53.490116</td>\n      <td>121.268890</td>\n      <td>111.151596</td>\n      <td>168.699997</td>\n      <td>1194.430054</td>\n      <td>1198.979980</td>\n      <td>...</td>\n      <td>237.820801</td>\n      <td>81.641251</td>\n      <td>117.786697</td>\n      <td>41.667114</td>\n      <td>101.002380</td>\n      <td>30.153536</td>\n      <td>242.378220</td>\n      <td>156.530075</td>\n      <td>56.692638</td>\n      <td>78.860390</td>\n    </tr>\n    <tr>\n      <th>2019-04-02</th>\n      <td>191.967804</td>\n      <td>1813.979980</td>\n      <td>28.371925</td>\n      <td>203.880005</td>\n      <td>53.791718</td>\n      <td>121.259186</td>\n      <td>110.608238</td>\n      <td>174.199997</td>\n      <td>1200.489990</td>\n      <td>1205.540039</td>\n      <td>...</td>\n      <td>238.029709</td>\n      <td>81.553032</td>\n      <td>117.954941</td>\n      <td>41.735195</td>\n      <td>101.109596</td>\n      <td>29.851526</td>\n      <td>241.262772</td>\n      <td>157.047653</td>\n      <td>56.155357</td>\n      <td>78.522659</td>\n    </tr>\n    <tr>\n      <th>2019-04-03</th>\n      <td>193.283737</td>\n      <td>1820.699951</td>\n      <td>28.342443</td>\n      <td>203.669998</td>\n      <td>54.122505</td>\n      <td>120.249741</td>\n      <td>111.161469</td>\n      <td>173.539993</td>\n      <td>1205.920044</td>\n      <td>1210.810059</td>\n      <td>...</td>\n      <td>237.701401</td>\n      <td>81.523636</td>\n      <td>118.726852</td>\n      <td>41.667114</td>\n      <td>101.051117</td>\n      <td>30.078032</td>\n      <td>242.674362</td>\n      <td>157.724518</td>\n      <td>56.481564</td>\n      <td>78.059517</td>\n    </tr>\n    <tr>\n      <th>2019-04-04</th>\n      <td>193.620117</td>\n      <td>1818.859985</td>\n      <td>28.647093</td>\n      <td>204.100006</td>\n      <td>53.985435</td>\n      <td>121.133011</td>\n      <td>113.364548</td>\n      <td>176.020004</td>\n      <td>1215.000000</td>\n      <td>1219.449951</td>\n      <td>...</td>\n      <td>234.846146</td>\n      <td>80.220116</td>\n      <td>118.123177</td>\n      <td>41.569851</td>\n      <td>100.797737</td>\n      <td>30.181849</td>\n      <td>244.204407</td>\n      <td>156.908310</td>\n      <td>56.596699</td>\n      <td>79.169144</td>\n    </tr>\n    <tr>\n      <th>2019-04-05</th>\n      <td>194.916260</td>\n      <td>1837.280029</td>\n      <td>28.578300</td>\n      <td>205.330002</td>\n      <td>54.053970</td>\n      <td>122.705406</td>\n      <td>113.611526</td>\n      <td>175.720001</td>\n      <td>1207.150024</td>\n      <td>1211.449951</td>\n      <td>...</td>\n      <td>235.413223</td>\n      <td>79.534058</td>\n      <td>118.647690</td>\n      <td>41.813004</td>\n      <td>101.012131</td>\n      <td>30.531042</td>\n      <td>245.576508</td>\n      <td>156.918259</td>\n      <td>56.692638</td>\n      <td>79.593689</td>\n    </tr>\n    <tr>\n      <th>2019-04-08</th>\n      <td>197.983475</td>\n      <td>1849.859985</td>\n      <td>28.666748</td>\n      <td>205.250000</td>\n      <td>54.328106</td>\n      <td>122.957764</td>\n      <td>113.572014</td>\n      <td>174.929993</td>\n      <td>1203.839966</td>\n      <td>1208.280029</td>\n      <td>...</td>\n      <td>235.383362</td>\n      <td>79.338036</td>\n      <td>118.687271</td>\n      <td>41.958897</td>\n      <td>102.298538</td>\n      <td>30.568792</td>\n      <td>245.546890</td>\n      <td>157.017792</td>\n      <td>56.731018</td>\n      <td>80.085785</td>\n    </tr>\n    <tr>\n      <th>2019-04-09</th>\n      <td>197.389832</td>\n      <td>1835.839966</td>\n      <td>28.391577</td>\n      <td>204.919998</td>\n      <td>54.024597</td>\n      <td>121.851265</td>\n      <td>115.449074</td>\n      <td>177.580002</td>\n      <td>1197.250000</td>\n      <td>1202.689941</td>\n      <td>...</td>\n      <td>235.024689</td>\n      <td>79.191032</td>\n      <td>118.043999</td>\n      <td>41.667114</td>\n      <td>101.996429</td>\n      <td>30.444141</td>\n      <td>245.586380</td>\n      <td>156.759018</td>\n      <td>56.607433</td>\n      <td>79.053352</td>\n    </tr>\n    <tr>\n      <th>2019-04-10</th>\n      <td>198.497971</td>\n      <td>1847.329956</td>\n      <td>28.568474</td>\n      <td>204.520004</td>\n      <td>54.651196</td>\n      <td>121.802727</td>\n      <td>115.745461</td>\n      <td>177.820007</td>\n      <td>1202.160034</td>\n      <td>1206.449951</td>\n      <td>...</td>\n      <td>236.170380</td>\n      <td>79.210632</td>\n      <td>118.944572</td>\n      <td>41.560123</td>\n      <td>101.986694</td>\n      <td>30.568792</td>\n      <td>242.861908</td>\n      <td>157.824051</td>\n      <td>56.810986</td>\n      <td>78.696342</td>\n    </tr>\n    <tr>\n      <th>2019-04-11</th>\n      <td>196.845642</td>\n      <td>1844.069946</td>\n      <td>28.568474</td>\n      <td>206.669998</td>\n      <td>54.435799</td>\n      <td>122.288040</td>\n      <td>115.192215</td>\n      <td>177.509995</td>\n      <td>1204.619995</td>\n      <td>1209.589966</td>\n      <td>...</td>\n      <td>235.154205</td>\n      <td>78.250145</td>\n      <td>119.083122</td>\n      <td>41.112717</td>\n      <td>102.084137</td>\n      <td>30.875631</td>\n      <td>232.388535</td>\n      <td>157.127289</td>\n      <td>56.762520</td>\n      <td>79.072655</td>\n    </tr>\n    <tr>\n      <th>2019-04-12</th>\n      <td>196.766495</td>\n      <td>1843.060059</td>\n      <td>29.649496</td>\n      <td>210.559998</td>\n      <td>55.111355</td>\n      <td>116.241096</td>\n      <td>128.489700</td>\n      <td>179.100006</td>\n      <td>1217.869995</td>\n      <td>1222.729980</td>\n      <td>...</td>\n      <td>237.933746</td>\n      <td>77.848312</td>\n      <td>119.696701</td>\n      <td>40.568047</td>\n      <td>102.386253</td>\n      <td>30.875631</td>\n      <td>220.345627</td>\n      <td>158.899033</td>\n      <td>56.936996</td>\n      <td>78.078819</td>\n    </tr>\n    <tr>\n      <th>2019-04-15</th>\n      <td>197.122681</td>\n      <td>1844.869995</td>\n      <td>29.325188</td>\n      <td>209.740005</td>\n      <td>55.375702</td>\n      <td>116.609924</td>\n      <td>130.445786</td>\n      <td>179.649994</td>\n      <td>1221.099976</td>\n      <td>1226.530029</td>\n      <td>...</td>\n      <td>238.252518</td>\n      <td>76.966232</td>\n      <td>119.795670</td>\n      <td>40.937645</td>\n      <td>103.039207</td>\n      <td>30.703035</td>\n      <td>227.235733</td>\n      <td>159.695328</td>\n      <td>56.907913</td>\n      <td>77.818298</td>\n    </tr>\n    <tr>\n      <th>2019-04-16</th>\n      <td>197.142471</td>\n      <td>1863.040039</td>\n      <td>29.364498</td>\n      <td>211.800003</td>\n      <td>55.757534</td>\n      <td>117.609665</td>\n      <td>128.331619</td>\n      <td>178.869995</td>\n      <td>1227.130005</td>\n      <td>1231.910034</td>\n      <td>...</td>\n      <td>239.189011</td>\n      <td>76.015549</td>\n      <td>119.518562</td>\n      <td>39.799675</td>\n      <td>103.711639</td>\n      <td>30.923574</td>\n      <td>218.114761</td>\n      <td>159.486282</td>\n      <td>56.985462</td>\n      <td>78.348984</td>\n    </tr>\n    <tr>\n      <th>2019-04-17</th>\n      <td>200.981445</td>\n      <td>1864.819946</td>\n      <td>29.511911</td>\n      <td>210.369995</td>\n      <td>55.130939</td>\n      <td>116.736107</td>\n      <td>130.159302</td>\n      <td>178.779999</td>\n      <td>1236.339966</td>\n      <td>1240.140015</td>\n      <td>...</td>\n      <td>240.095596</td>\n      <td>72.448029</td>\n      <td>120.508202</td>\n      <td>38.788151</td>\n      <td>103.884277</td>\n      <td>30.635916</td>\n      <td>214.047791</td>\n      <td>159.695328</td>\n      <td>56.006458</td>\n      <td>78.570915</td>\n    </tr>\n    <tr>\n      <th>2019-04-18</th>\n      <td>201.703720</td>\n      <td>1861.689941</td>\n      <td>29.511911</td>\n      <td>209.990005</td>\n      <td>55.219051</td>\n      <td>116.338150</td>\n      <td>130.850845</td>\n      <td>178.279999</td>\n      <td>1236.369995</td>\n      <td>1241.469971</td>\n      <td>...</td>\n      <td>239.985992</td>\n      <td>71.732574</td>\n      <td>122.091629</td>\n      <td>38.301842</td>\n      <td>104.080566</td>\n      <td>30.712622</td>\n      <td>218.894562</td>\n      <td>159.416626</td>\n      <td>56.258484</td>\n      <td>78.281448</td>\n    </tr>\n    <tr>\n      <th>2019-04-22</th>\n      <td>202.366638</td>\n      <td>1887.310059</td>\n      <td>29.531565</td>\n      <td>209.490005</td>\n      <td>55.160309</td>\n      <td>118.318214</td>\n      <td>130.090134</td>\n      <td>181.440002</td>\n      <td>1248.839966</td>\n      <td>1253.760010</td>\n      <td>...</td>\n      <td>242.137909</td>\n      <td>71.997192</td>\n      <td>122.477585</td>\n      <td>37.912792</td>\n      <td>104.041313</td>\n      <td>30.760569</td>\n      <td>224.185547</td>\n      <td>159.655502</td>\n      <td>56.578350</td>\n      <td>79.989296</td>\n    </tr>\n    <tr>\n      <th>2019-04-23</th>\n      <td>205.285416</td>\n      <td>1923.770020</td>\n      <td>29.551222</td>\n      <td>211.610001</td>\n      <td>55.502983</td>\n      <td>118.434685</td>\n      <td>131.749863</td>\n      <td>183.779999</td>\n      <td>1264.550049</td>\n      <td>1270.589966</td>\n      <td>...</td>\n      <td>242.576248</td>\n      <td>73.114487</td>\n      <td>124.140182</td>\n      <td>38.340744</td>\n      <td>101.244232</td>\n      <td>30.779743</td>\n      <td>227.610870</td>\n      <td>160.909668</td>\n      <td>55.395802</td>\n      <td>80.452446</td>\n    </tr>\n    <tr>\n      <th>2019-04-24</th>\n      <td>204.968811</td>\n      <td>1901.750000</td>\n      <td>29.502083</td>\n      <td>210.570007</td>\n      <td>55.688999</td>\n      <td>114.804581</td>\n      <td>133.468857</td>\n      <td>182.580002</td>\n      <td>1256.000000</td>\n      <td>1260.050049</td>\n      <td>...</td>\n      <td>244.369492</td>\n      <td>73.241905</td>\n      <td>123.714630</td>\n      <td>38.292110</td>\n      <td>101.764389</td>\n      <td>29.523624</td>\n      <td>227.383820</td>\n      <td>160.740463</td>\n      <td>55.327953</td>\n      <td>78.889328</td>\n    </tr>\n    <tr>\n      <th>2019-04-25</th>\n      <td>203.108704</td>\n      <td>1902.250000</td>\n      <td>29.561049</td>\n      <td>211.949997</td>\n      <td>55.150517</td>\n      <td>114.435753</td>\n      <td>135.583008</td>\n      <td>193.259995</td>\n      <td>1263.449951</td>\n      <td>1267.339966</td>\n      <td>...</td>\n      <td>244.688293</td>\n      <td>74.819839</td>\n      <td>127.811722</td>\n      <td>38.525543</td>\n      <td>101.362000</td>\n      <td>29.092133</td>\n      <td>227.818146</td>\n      <td>160.272629</td>\n      <td>54.135700</td>\n      <td>79.333176</td>\n    </tr>\n    <tr>\n      <th>2019-04-26</th>\n      <td>202.139069</td>\n      <td>1950.630005</td>\n      <td>29.826391</td>\n      <td>214.220001</td>\n      <td>54.709942</td>\n      <td>113.659256</td>\n      <td>138.230667</td>\n      <td>191.490005</td>\n      <td>1272.180054</td>\n      <td>1277.420044</td>\n      <td>...</td>\n      <td>245.754288</td>\n      <td>75.104065</td>\n      <td>128.544052</td>\n      <td>38.875687</td>\n      <td>103.894089</td>\n      <td>29.418150</td>\n      <td>233.948196</td>\n      <td>162.173752</td>\n      <td>54.843300</td>\n      <td>77.663918</td>\n    </tr>\n    <tr>\n      <th>2019-04-29</th>\n      <td>202.445786</td>\n      <td>1938.430054</td>\n      <td>30.239145</td>\n      <td>216.580002</td>\n      <td>54.954704</td>\n      <td>114.261040</td>\n      <td>137.618149</td>\n      <td>194.779999</td>\n      <td>1287.579956</td>\n      <td>1296.199951</td>\n      <td>...</td>\n      <td>246.202606</td>\n      <td>75.251076</td>\n      <td>128.425308</td>\n      <td>38.506092</td>\n      <td>102.834145</td>\n      <td>29.609922</td>\n      <td>234.392395</td>\n      <td>163.388092</td>\n      <td>55.095314</td>\n      <td>77.162178</td>\n    </tr>\n    <tr>\n      <th>2019-04-30</th>\n      <td>198.547455</td>\n      <td>1926.520020</td>\n      <td>30.052422</td>\n      <td>216.710007</td>\n      <td>54.778477</td>\n      <td>116.532288</td>\n      <td>135.316269</td>\n      <td>193.399994</td>\n      <td>1188.479980</td>\n      <td>1198.959961</td>\n      <td>...</td>\n      <td>253.285919</td>\n      <td>77.142639</td>\n      <td>129.246719</td>\n      <td>39.498165</td>\n      <td>104.502571</td>\n      <td>29.686630</td>\n      <td>230.068802</td>\n      <td>163.666779</td>\n      <td>55.434570</td>\n      <td>77.461288</td>\n    </tr>\n  </tbody>\n</table>\n<p>21 rows × 25 columns</p>\n</div>",
      "text/plain": "Symbols           AAPL         AMZN        BAC       BRK-B       CSCO  \\\nDate                                                                    \n2019-04-01  189.217209  1814.189941  28.047619  205.000000  53.490116   \n2019-04-02  191.967804  1813.979980  28.371925  203.880005  53.791718   \n2019-04-03  193.283737  1820.699951  28.342443  203.669998  54.122505   \n2019-04-04  193.620117  1818.859985  28.647093  204.100006  53.985435   \n2019-04-05  194.916260  1837.280029  28.578300  205.330002  54.053970   \n2019-04-08  197.983475  1849.859985  28.666748  205.250000  54.328106   \n2019-04-09  197.389832  1835.839966  28.391577  204.919998  54.024597   \n2019-04-10  198.497971  1847.329956  28.568474  204.520004  54.651196   \n2019-04-11  196.845642  1844.069946  28.568474  206.669998  54.435799   \n2019-04-12  196.766495  1843.060059  29.649496  210.559998  55.111355   \n2019-04-15  197.122681  1844.869995  29.325188  209.740005  55.375702   \n2019-04-16  197.142471  1863.040039  29.364498  211.800003  55.757534   \n2019-04-17  200.981445  1864.819946  29.511911  210.369995  55.130939   \n2019-04-18  201.703720  1861.689941  29.511911  209.990005  55.219051   \n2019-04-22  202.366638  1887.310059  29.531565  209.490005  55.160309   \n2019-04-23  205.285416  1923.770020  29.551222  211.610001  55.502983   \n2019-04-24  204.968811  1901.750000  29.502083  210.570007  55.688999   \n2019-04-25  203.108704  1902.250000  29.561049  211.949997  55.150517   \n2019-04-26  202.139069  1950.630005  29.826391  214.220001  54.709942   \n2019-04-29  202.445786  1938.430054  30.239145  216.580002  54.954704   \n2019-04-30  198.547455  1926.520020  30.052422  216.710007  54.778477   \n\nSymbols            CVX         DIS          FB         GOOG        GOOGL  ...  \\\nDate                                                                      ...   \n2019-04-01  121.268890  111.151596  168.699997  1194.430054  1198.979980  ...   \n2019-04-02  121.259186  110.608238  174.199997  1200.489990  1205.540039  ...   \n2019-04-03  120.249741  111.161469  173.539993  1205.920044  1210.810059  ...   \n2019-04-04  121.133011  113.364548  176.020004  1215.000000  1219.449951  ...   \n2019-04-05  122.705406  113.611526  175.720001  1207.150024  1211.449951  ...   \n2019-04-08  122.957764  113.572014  174.929993  1203.839966  1208.280029  ...   \n2019-04-09  121.851265  115.449074  177.580002  1197.250000  1202.689941  ...   \n2019-04-10  121.802727  115.745461  177.820007  1202.160034  1206.449951  ...   \n2019-04-11  122.288040  115.192215  177.509995  1204.619995  1209.589966  ...   \n2019-04-12  116.241096  128.489700  179.100006  1217.869995  1222.729980  ...   \n2019-04-15  116.609924  130.445786  179.649994  1221.099976  1226.530029  ...   \n2019-04-16  117.609665  128.331619  178.869995  1227.130005  1231.910034  ...   \n2019-04-17  116.736107  130.159302  178.779999  1236.339966  1240.140015  ...   \n2019-04-18  116.338150  130.850845  178.279999  1236.369995  1241.469971  ...   \n2019-04-22  118.318214  130.090134  181.440002  1248.839966  1253.760010  ...   \n2019-04-23  118.434685  131.749863  183.779999  1264.550049  1270.589966  ...   \n2019-04-24  114.804581  133.468857  182.580002  1256.000000  1260.050049  ...   \n2019-04-25  114.435753  135.583008  193.259995  1263.449951  1267.339966  ...   \n2019-04-26  113.659256  138.230667  191.490005  1272.180054  1277.420044  ...   \n2019-04-29  114.261040  137.618149  194.779999  1287.579956  1296.199951  ...   \n2019-04-30  116.532288  135.316269  193.399994  1188.479980  1198.959961  ...   \n\nSymbols             MA        MRK        MSFT        PFE          PG  \\\nDate                                                                   \n2019-04-01  237.820801  81.641251  117.786697  41.667114  101.002380   \n2019-04-02  238.029709  81.553032  117.954941  41.735195  101.109596   \n2019-04-03  237.701401  81.523636  118.726852  41.667114  101.051117   \n2019-04-04  234.846146  80.220116  118.123177  41.569851  100.797737   \n2019-04-05  235.413223  79.534058  118.647690  41.813004  101.012131   \n2019-04-08  235.383362  79.338036  118.687271  41.958897  102.298538   \n2019-04-09  235.024689  79.191032  118.043999  41.667114  101.996429   \n2019-04-10  236.170380  79.210632  118.944572  41.560123  101.986694   \n2019-04-11  235.154205  78.250145  119.083122  41.112717  102.084137   \n2019-04-12  237.933746  77.848312  119.696701  40.568047  102.386253   \n2019-04-15  238.252518  76.966232  119.795670  40.937645  103.039207   \n2019-04-16  239.189011  76.015549  119.518562  39.799675  103.711639   \n2019-04-17  240.095596  72.448029  120.508202  38.788151  103.884277   \n2019-04-18  239.985992  71.732574  122.091629  38.301842  104.080566   \n2019-04-22  242.137909  71.997192  122.477585  37.912792  104.041313   \n2019-04-23  242.576248  73.114487  124.140182  38.340744  101.244232   \n2019-04-24  244.369492  73.241905  123.714630  38.292110  101.764389   \n2019-04-25  244.688293  74.819839  127.811722  38.525543  101.362000   \n2019-04-26  245.754288  75.104065  128.544052  38.875687  103.894089   \n2019-04-29  246.202606  75.251076  128.425308  38.506092  102.834145   \n2019-04-30  253.285919  77.142639  129.246719  39.498165  104.502571   \n\nSymbols             T         UNH           V         VZ        XOM  \nDate                                                                 \n2019-04-01  30.153536  242.378220  156.530075  56.692638  78.860390  \n2019-04-02  29.851526  241.262772  157.047653  56.155357  78.522659  \n2019-04-03  30.078032  242.674362  157.724518  56.481564  78.059517  \n2019-04-04  30.181849  244.204407  156.908310  56.596699  79.169144  \n2019-04-05  30.531042  245.576508  156.918259  56.692638  79.593689  \n2019-04-08  30.568792  245.546890  157.017792  56.731018  80.085785  \n2019-04-09  30.444141  245.586380  156.759018  56.607433  79.053352  \n2019-04-10  30.568792  242.861908  157.824051  56.810986  78.696342  \n2019-04-11  30.875631  232.388535  157.127289  56.762520  79.072655  \n2019-04-12  30.875631  220.345627  158.899033  56.936996  78.078819  \n2019-04-15  30.703035  227.235733  159.695328  56.907913  77.818298  \n2019-04-16  30.923574  218.114761  159.486282  56.985462  78.348984  \n2019-04-17  30.635916  214.047791  159.695328  56.006458  78.570915  \n2019-04-18  30.712622  218.894562  159.416626  56.258484  78.281448  \n2019-04-22  30.760569  224.185547  159.655502  56.578350  79.989296  \n2019-04-23  30.779743  227.610870  160.909668  55.395802  80.452446  \n2019-04-24  29.523624  227.383820  160.740463  55.327953  78.889328  \n2019-04-25  29.092133  227.818146  160.272629  54.135700  79.333176  \n2019-04-26  29.418150  233.948196  162.173752  54.843300  77.663918  \n2019-04-29  29.609922  234.392395  163.388092  55.095314  77.162178  \n2019-04-30  29.686630  230.068802  163.666779  55.434570  77.461288  \n\n[21 rows x 25 columns]"
     },
     "execution_count": 85,
     "metadata": {},
     "output_type": "execute_result"
    }
   ],
   "source": [
    "def buildPortfolio():\n",
    "\n",
    "    df = data.DataReader(tickers, data_source=\"yahoo\", start=start, end=end)\n",
    "\n",
    "    return(df['Adj Close'])\n",
    "buildPortfolio()\n",
    "\n",
    "\n",
    "\n",
    "\n",
    "\n",
    "\n",
    "\n",
    "\n",
    "\n"
   ]
  },
  {
   "cell_type": "code",
   "execution_count": null,
   "metadata": {},
   "outputs": [],
   "source": []
  }
 ]
}