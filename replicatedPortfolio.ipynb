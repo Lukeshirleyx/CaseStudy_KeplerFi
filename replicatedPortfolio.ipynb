{
 "nbformat": 4,
 "nbformat_minor": 2,
 "metadata": {
  "language_info": {
   "name": "python",
   "codemirror_mode": {
    "name": "ipython",
    "version": 3
   },
   "version": "3.7.3-final"
  },
  "orig_nbformat": 2,
  "file_extension": ".py",
  "mimetype": "text/x-python",
  "name": "python",
  "npconvert_exporter": "python",
  "pygments_lexer": "ipython3",
  "version": 3,
  "kernelspec": {
   "name": "python37364bitbaseconda5994b4e167854476be8aec73de17ebc4",
   "display_name": "Python 3.7.3 64-bit ('base': conda)"
  }
 },
 "cells": [
  {
   "cell_type": "code",
   "execution_count": 70,
   "metadata": {},
   "outputs": [
    {
     "name": "stdout",
     "output_type": "stream",
     "text": "\nLooking for [chromedriver 79.0.3945.36 win32] driver in cache\nFile found in cache by path [C:\\Users\\lukes\\.wdm\\drivers\\chromedriver\\79.0.3945.36\\win32\\chromedriver.exe]\n"
    },
    {
     "data": {
      "text/plain": "['AAPL',\n 'MSFT',\n 'AMZN',\n 'FB',\n 'BRK.B',\n 'JPM',\n 'GOOG',\n 'GOOGL',\n 'JNJ',\n 'V',\n 'PG',\n 'XOM',\n 'BAC',\n 'T',\n 'UNH',\n 'MA',\n 'INTC',\n 'VZ',\n 'DIS',\n 'HD',\n 'MRK',\n 'CVX',\n 'PFE',\n 'KO',\n 'CSCO']"
     },
     "execution_count": 70,
     "metadata": {},
     "output_type": "execute_result"
    }
   ],
   "source": [
    "# Libraries\n",
    "import quandl\n",
    "import numpy as np\n",
    "import pandas as pd\n",
    "import matplotlib.pyplot as plt\n",
    "import pandas_datareader.data as data\n",
    "import datetime\n",
    "import json\n",
    "from yahoofinancials import YahooFinancials\n",
    "\n",
    "asset_dict = {}\n",
    "\n",
    "# Assets\n",
    "russell_index = [\"^RUI\"]\n",
    "tickers = []\n",
    "\n",
    "# Set timeframe\n",
    "start = \"2019-03-31\"\n",
    "end = \"2019-04-30\"\n",
    "\n",
    "def russell():\n",
    "    # Pull data from Yahoo! Finance for Russell 1000 Index\n",
    "    df = data.DataReader(russell_index, data_source=\"yahoo\", start=start, end=end)\n",
    "\n",
    "    percentage = df.pct_change()\n",
    "    russellReturn = percentage[\"Adj Close\"]\n",
    "\n",
    "    return russellReturn\n",
    "\n",
    "\n",
    "#russell()\n",
    "def pullTickers():\n",
    "    exec(open(\"scrapeETF.py\").read())\n",
    "\n",
    "    list(asset_dict.keys())\n",
    "\n",
    "    for key in asset_dict.keys():\n",
    "        tickers.append(key)\n",
    "    return tickers\n",
    "\n",
    "pullTickers()\n",
    "\n"
   ]
  },
  {
   "cell_type": "code",
   "execution_count": 65,
   "metadata": {},
   "outputs": [
    {
     "name": "stdout",
     "output_type": "stream",
     "text": "{'intangibleAssets': 8103000000, 'totalLiab': 168417000000, 'totalStockholderEquity': 94864000000, 'otherCurrentLiab': 32295000000, 'totalAssets': 263281000000, 'commonStock': 77791000000, 'otherCurrentAssets': 7131000000, 'retainedEarnings': 18338000000, 'otherLiab': 36471000000, 'goodWill': 41861000000, 'treasuryStock': -1265000000, 'otherAssets': 10258000000, 'cash': 11212000000, 'totalCurrentLiabilities': 53861000000, 'shortLongTermDebt': 6515000000, 'otherStockholderEquity': -1265000000, 'propertyPlantEquipment': 40769000000, 'totalCurrentAssets': 159887000000, 'longTermInvestments': 2403000000, 'netTangibleAssets': 44900000000, 'shortTermInvestments': 120324000000, 'netReceivables': 19269000000, 'longTermDebt': 66585000000, 'inventory': 1951000000, 'accountsPayable': 7544000000}\n"
    }
   ],
   "source": [
    "yahoo_financials = YahooFinancials('msft')\n",
    "print(yahoo_financials.get_financial_stmts('quarterly', 'balance')['balanceSheetHistoryQuarterly']['MSFT'][2]['2019-03-31'])"
   ]
  },
  {
   "cell_type": "code",
   "execution_count": null,
   "metadata": {},
   "outputs": [],
   "source": [
    "def buildPortfolio():\n",
    "    \n",
    "\n",
    "\n",
    "\n",
    "\n",
    "\n",
    "\n",
    "\n",
    "\n",
    "\n",
    "\n",
    "\n"
   ]
  }
 ]
}