{
 "nbformat": 4,
 "nbformat_minor": 2,
 "metadata": {
  "language_info": {
   "name": "python",
   "codemirror_mode": {
    "name": "ipython",
    "version": 3
   },
   "version": "3.7.3-final"
  },
  "orig_nbformat": 2,
  "file_extension": ".py",
  "mimetype": "text/x-python",
  "name": "python",
  "npconvert_exporter": "python",
  "pygments_lexer": "ipython3",
  "version": 3,
  "kernelspec": {
   "name": "python37364bitbaseconda5994b4e167854476be8aec73de17ebc4",
   "display_name": "Python 3.7.3 64-bit ('base': conda)"
  }
 },
 "cells": [
  {
   "cell_type": "code",
   "execution_count": 12,
   "metadata": {},
   "outputs": [
    {
     "name": "stdout",
     "output_type": "stream",
     "text": "Symbols            ^RUI\nDate                   \n2015-12-07  1150.430054\n2015-12-08  1143.050049\n2015-12-09  1133.959961\n2015-12-10  1136.709961\n2015-12-11  1114.630005\n2015-12-14  1118.630005\n2015-12-15  1130.709961\n2015-12-16  1147.109985\n2015-12-17  1130.050049\n2015-12-18  1110.739990\n2015-12-21  1118.989990\n2015-12-22  1128.750000\n2015-12-23  1143.050049\n2015-12-24  1141.449951\n2015-12-28  1138.790039\n2015-12-29  1150.469971\n2015-12-30  1142.130005\n2015-12-31  1131.880005\n2016-01-04  1114.859985\n2016-01-05  1116.839966\n2016-01-06  1101.810059\n2016-01-07  1075.290039\n2016-01-08  1063.550049\n2016-01-11  1063.640015\n2016-01-12  1071.280029\n2016-01-13  1043.969971\n2016-01-14  1060.609985\n2016-01-15  1038.030029\n2016-01-19  1037.410034\n2016-01-20  1025.680054\n...                 ...\n2019-02-19  1542.660034\n2019-02-20  1545.140015\n2019-02-21  1539.670044\n2019-02-22  1549.969971\n2019-02-25  1552.000000\n2019-02-26  1550.130005\n2019-02-27  1550.290039\n2019-02-28  1545.729980\n2019-03-01  1556.140015\n2019-03-04  1549.310059\n2019-03-05  1547.329956\n2019-03-06  1536.469971\n2019-03-07  1524.290039\n2019-03-08  1521.030029\n2019-03-11  1543.390015\n2019-03-12  1547.969971\n2019-03-13  1558.390015\n2019-03-14  1556.969971\n2019-03-15  1564.229980\n2019-03-18  1570.239990\n2019-03-19  1569.520020\n2019-03-20  1564.439941\n2019-03-21  1582.109985\n2019-03-22  1550.949951\n2019-03-25  1549.500000\n2019-03-26  1560.910034\n2019-03-27  1553.640015\n2019-03-28  1559.790039\n2019-03-29  1570.229980\n2019-04-01  1588.650024\n\n[834 rows x 1 columns]\n"
    },
    {
     "ename": "ValueError",
     "evalue": "setting an array element with a sequence.",
     "output_type": "error",
     "traceback": [
      "\u001b[1;31m---------------------------------------------------------------------------\u001b[0m",
      "\u001b[1;31mValueError\u001b[0m                                Traceback (most recent call last)",
      "\u001b[1;32m<ipython-input-12-4efc8743ca23>\u001b[0m in \u001b[0;36m<module>\u001b[1;34m\u001b[0m\n\u001b[0;32m     28\u001b[0m     \u001b[0mprice\u001b[0m \u001b[1;33m=\u001b[0m \u001b[0mdf\u001b[0m\u001b[1;33m[\u001b[0m\u001b[1;34m\"Adj Close\"\u001b[0m\u001b[1;33m]\u001b[0m\u001b[1;33m\u001b[0m\u001b[1;33m\u001b[0m\u001b[0m\n\u001b[0;32m     29\u001b[0m     \u001b[1;31m# Assign the exposure at each index to the price times the allocation at each index\u001b[0m\u001b[1;33m\u001b[0m\u001b[1;33m\u001b[0m\u001b[1;33m\u001b[0m\u001b[0m\n\u001b[1;32m---> 30\u001b[1;33m     \u001b[0mexposures\u001b[0m\u001b[1;33m[\u001b[0m\u001b[0mi\u001b[0m\u001b[1;33m]\u001b[0m \u001b[1;33m=\u001b[0m \u001b[0mprice\u001b[0m \u001b[1;33m*\u001b[0m \u001b[0massets\u001b[0m\u001b[1;33m[\u001b[0m\u001b[0mi\u001b[0m\u001b[1;33m]\u001b[0m\u001b[1;33m\u001b[0m\u001b[1;33m\u001b[0m\u001b[0m\n\u001b[0m\u001b[0;32m     31\u001b[0m     \u001b[1;31m# Parse data\u001b[0m\u001b[1;33m\u001b[0m\u001b[1;33m\u001b[0m\u001b[1;33m\u001b[0m\u001b[0m\n\u001b[0;32m     32\u001b[0m \u001b[1;33m\u001b[0m\u001b[0m\n",
      "\u001b[1;31mValueError\u001b[0m: setting an array element with a sequence."
     ]
    }
   ],
   "source": [
    "# Libraries\n",
    "import numpy as np\n",
    "import pandas as pd\n",
    "import matplotlib.pyplot as plt\n",
    "import pandas_datareader.data as data\n",
    "import datetime\n",
    "\n",
    "russell_index = [\"^RUI\"]\n",
    "\n",
    "portfolio = [\"AMZN\", \"MSFT\", \"GOOG\"]\n",
    "assets = np.array([10000.0, 1000.0, 1000.0]) \n",
    "exposures = np.zeros(3)\n",
    "\n",
    "\n",
    "#Set timeframe\n",
    "start = \"2015-12-07\"\n",
    "end = \"2019-03-31\"\n",
    "\n",
    "\n",
    "#Pull data from Yahoo! Finance\n",
    "df = data.DataReader(russell_index, data_source=\"yahoo\", start=start, end=end)\n",
    "\n",
    "print(df[\"Adj Close\"])\n",
    "\n",
    "for i, ticker in enumerate(portfolio):\n",
    "    df = data.DataReader(portfolio, data_source=\"yahoo\", start=start, end=end)\n",
    "\n",
    "    price = df[\"Adj Close\"]\n",
    "    # Assign the exposure at each index to the price times the allocation at each index\n",
    "    exposures[i] = price * assets[i] \n",
    "    # Parse data\n",
    "    \n",
    "    print(ticker+\" Exposure in USD: ${:,.2f}\".format(exposures[i]))\n",
    "    \n",
    "\n",
    "\n",
    "\n",
    "\n",
    "\n"
   ]
  },
  {
   "cell_type": "code",
   "execution_count": null,
   "metadata": {},
   "outputs": [],
   "source": []
  }
 ]
}