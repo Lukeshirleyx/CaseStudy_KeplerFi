{
 "nbformat": 4,
 "nbformat_minor": 2,
 "metadata": {
  "language_info": {
   "name": "python",
   "codemirror_mode": {
    "name": "ipython",
    "version": 3
   }
  },
  "orig_nbformat": 2,
  "file_extension": ".py",
  "mimetype": "text/x-python",
  "name": "python",
  "npconvert_exporter": "python",
  "pygments_lexer": "ipython3",
  "version": 3
 },
 "cells": [
  {
   "cell_type": "code",
   "execution_count": null,
   "metadata": {},
   "outputs": [],
   "source": [
    "sharesOutstanding = {}\n",
    "\n",
    "def pullFundamentals():\n",
    "\n",
    "    for i in tickers:\n",
    "        yahoo_financials = YahooFinancials(i)\n",
    "        common = yahoo_financials.get_financial_stmts('quarterly', 'balance')[\"balanceSheetHistoryQuarterly\"][i][2]\n",
    "        qtr_2 = list(common.keys())[0]\n",
    "        commonStock = common[qtr_2]['totalStockholderEquity']\n",
    "\n",
    "        treasury = yahoo_financials.get_financial_stmts('quarterly', 'balance')[\"balanceSheetHistoryQuarterly\"][i][2]\n",
    "        qtr_2 = list(treasury.keys())[0]\n",
    "        treasuryStock = treasury[qtr_2]['treasuryStock']\n",
    "\n",
    "        other = yahoo_financials.get_financial_stmts('quarterly', 'balance')[\"balanceSheetHistoryQuarterly\"][i][2]\n",
    "        qtr_2 = list(other.keys())[0]\n",
    "        otherStock = other[qtr_2]['otherStockholderEquity']\n",
    "\n",
    "        retained = yahoo_financials.get_financial_stmts('quarterly', 'balance')[\"balanceSheetHistoryQuarterly\"][i][2]\n",
    "        qtr_2 = list(retained.keys())[0]\n",
    "        retainedEarnings = retained[qtr_2]['retainedEarnings']\n",
    "\n",
    "        pullFundamentals = commonStock - abs(treasuryStock) - abs(otherStock) - abs(retainedEarnings)\n",
    "\n",
    "        sharesOutstanding[i] = pullFundamentals\n",
    "\n",
    "        print(sharesOutstanding)\n",
    "pullFundamentals()"
   ]
  }
 ]
}