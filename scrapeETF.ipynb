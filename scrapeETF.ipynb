{
 "nbformat": 4,
 "nbformat_minor": 2,
 "metadata": {
  "language_info": {
   "name": "python",
   "codemirror_mode": {
    "name": "ipython",
    "version": 3
   },
   "version": "3.7.3-final"
  },
  "orig_nbformat": 2,
  "file_extension": ".py",
  "mimetype": "text/x-python",
  "name": "python",
  "npconvert_exporter": "python",
  "pygments_lexer": "ipython3",
  "version": 3,
  "kernelspec": {
   "name": "python37364bitbaseconda5994b4e167854476be8aec73de17ebc4",
   "display_name": "Python 3.7.3 64-bit ('base': conda)"
  }
 },
 "cells": [
  {
   "cell_type": "code",
   "execution_count": 3,
   "metadata": {},
   "outputs": [
    {
     "name": "stdout",
     "output_type": "stream",
     "text": "\nLooking for [chromedriver 79.0.3945.36 win32] driver in cache\nFile found in cache by path [C:\\Users\\lukes\\.wdm\\drivers\\chromedriver\\79.0.3945.36\\win32\\chromedriver.exe]\n"
    },
    {
     "data": {
      "text/html": "<div>\n<style scoped>\n    .dataframe tbody tr th:only-of-type {\n        vertical-align: middle;\n    }\n\n    .dataframe tbody tr th {\n        vertical-align: top;\n    }\n\n    .dataframe thead th {\n        text-align: right;\n    }\n</style>\n<table border=\"1\" class=\"dataframe\">\n  <thead>\n    <tr style=\"text-align: right;\">\n      <th></th>\n      <th>percent</th>\n    </tr>\n  </thead>\n  <tbody>\n    <tr>\n      <th>AAPL</th>\n      <td>4.37</td>\n    </tr>\n    <tr>\n      <th>MSFT</th>\n      <td>3.99</td>\n    </tr>\n    <tr>\n      <th>AMZN</th>\n      <td>2.56</td>\n    </tr>\n    <tr>\n      <th>FB</th>\n      <td>1.64</td>\n    </tr>\n    <tr>\n      <th>BRK.B</th>\n      <td>1.48</td>\n    </tr>\n    <tr>\n      <th>JPM</th>\n      <td>1.45</td>\n    </tr>\n    <tr>\n      <th>GOOG</th>\n      <td>1.34</td>\n    </tr>\n    <tr>\n      <th>GOOGL</th>\n      <td>1.34</td>\n    </tr>\n    <tr>\n      <th>JNJ</th>\n      <td>1.30</td>\n    </tr>\n    <tr>\n      <th>V</th>\n      <td>1.08</td>\n    </tr>\n    <tr>\n      <th>PG</th>\n      <td>1.03</td>\n    </tr>\n    <tr>\n      <th>XOM</th>\n      <td>0.99</td>\n    </tr>\n    <tr>\n      <th>BAC</th>\n      <td>0.96</td>\n    </tr>\n    <tr>\n      <th>T</th>\n      <td>0.95</td>\n    </tr>\n    <tr>\n      <th>UNH</th>\n      <td>0.93</td>\n    </tr>\n    <tr>\n      <th>MA</th>\n      <td>0.89</td>\n    </tr>\n    <tr>\n      <th>INTC</th>\n      <td>0.87</td>\n    </tr>\n    <tr>\n      <th>VZ</th>\n      <td>0.85</td>\n    </tr>\n    <tr>\n      <th>DIS</th>\n      <td>0.84</td>\n    </tr>\n    <tr>\n      <th>HD</th>\n      <td>0.81</td>\n    </tr>\n    <tr>\n      <th>MRK</th>\n      <td>0.78</td>\n    </tr>\n    <tr>\n      <th>CVX</th>\n      <td>0.77</td>\n    </tr>\n    <tr>\n      <th>PFE</th>\n      <td>0.73</td>\n    </tr>\n    <tr>\n      <th>KO</th>\n      <td>0.71</td>\n    </tr>\n    <tr>\n      <th>CSCO</th>\n      <td>0.69</td>\n    </tr>\n  </tbody>\n</table>\n</div>",
      "text/plain": "       percent\nAAPL      4.37\nMSFT      3.99\nAMZN      2.56\nFB        1.64\nBRK.B     1.48\nJPM       1.45\nGOOG      1.34\nGOOGL     1.34\nJNJ       1.30\nV         1.08\nPG        1.03\nXOM       0.99\nBAC       0.96\nT         0.95\nUNH       0.93\nMA        0.89\nINTC      0.87\nVZ        0.85\nDIS       0.84\nHD        0.81\nMRK       0.78\nCVX       0.77\nPFE       0.73\nKO        0.71\nCSCO      0.69"
     },
     "execution_count": 3,
     "metadata": {},
     "output_type": "execute_result"
    }
   ],
   "source": [
    "%matplotlib inline\n",
    "\n",
    "from bs4 import BeautifulSoup\n",
    "import matplotlib\n",
    "import matplotlib.pyplot as plt\n",
    "import re\n",
    "import requests\n",
    "import numpy as np\n",
    "import pandas as pd\n",
    "from selenium import webdriver\n",
    "from selenium.webdriver.chrome.webdriver import WebDriver\n",
    "from webdriver_manager.chrome import ChromeDriverManager\n",
    "import warnings\n",
    "\n",
    "driver = webdriver.Chrome(ChromeDriverManager().install())\n",
    "asset_dict = {} \n",
    "\n",
    "warnings.filterwarnings('ignore')\n",
    "\n",
    "\n",
    "def get_table(soup):\n",
    "    for t in soup.select('table'):\n",
    "        header = t.select('thead tr th')\n",
    "        if len(header) > 2:\n",
    "            if (header[0].get_text().strip() == 'Symbol'\n",
    "                and header[2].get_text().strip().startswith('% Holding')):\n",
    "                return t\n",
    "    raise Exception('could not find symbol list table')\n",
    "    \n",
    "# Scrapes ETF holdings from barchart.com\n",
    "def get_etf_holdings():\n",
    "    '''\n",
    "    etf_symbol: str\n",
    "    \n",
    "    return: pd.DataFrame\n",
    "    '''\n",
    "    url = 'https://www.barchart.com/stocks/quotes/VONE/constituents?page=all'\n",
    "\n",
    "    # Loads the ETF constituents page and reads the holdings table\n",
    "    browser = WebDriver() # webdriver.PhantomJS()\n",
    "    browser.get(url)\n",
    "    html = browser.page_source\n",
    "    soup = BeautifulSoup(html, 'html')\n",
    "    table = get_table(soup)\n",
    "\n",
    "    # Reads the holdings table line by line and appends each asset to a\n",
    "    # dictionary along with the holdings percentage\n",
    "    for row in table.select('tr')[1:26]:\n",
    "        try:\n",
    "            cells = row.select('td')\n",
    "            # print(row)\n",
    "            symbol = cells[0].get_text().strip()\n",
    "            # print(symbol)\n",
    "            # name = cells[1].text.strip()\n",
    "            celltext = cells[2].get_text().strip()\n",
    "            percent = float(celltext.rstrip('%'))\n",
    "            # shares = int(cells[3].text.strip().replace(',', ''))\n",
    "            if symbol != \"\" and percent != 0.0:\n",
    "                asset_dict[symbol] = {\n",
    "                    'percent': percent,\n",
    "                }\n",
    "        except BaseException as ex:\n",
    "            print(ex)\n",
    "    browser.quit()\n",
    "    return pd.DataFrame(asset_dict)\n",
    "\n",
    "constituent = get_etf_holdings()\n",
    "\n",
    "constituent.T\n"
   ]
  },
  {
   "cell_type": "code",
   "execution_count": 104,
   "metadata": {},
   "outputs": [
    {
     "name": "stdout",
     "output_type": "stream",
     "text": "{'AAPL': {'percent': 4.37}, 'MSFT': {'percent': 3.99}, 'AMZN': {'percent': 2.56}, 'FB': {'percent': 1.64}, 'BRK.B': {'percent': 1.48}, 'JPM': {'percent': 1.45}, 'GOOG': {'percent': 1.34}, 'GOOGL': {'percent': 1.34}, 'JNJ': {'percent': 1.3}, 'V': {'percent': 1.08}, 'PG': {'percent': 1.03}, 'XOM': {'percent': 0.99}, 'BAC': {'percent': 0.96}, 'T': {'percent': 0.95}, 'UNH': {'percent': 0.93}, 'MA': {'percent': 0.89}, 'INTC': {'percent': 0.87}, 'VZ': {'percent': 0.85}, 'DIS': {'percent': 0.84}, 'HD': {'percent': 0.81}, 'MRK': {'percent': 0.78}, 'CVX': {'percent': 0.77}, 'PFE': {'percent': 0.73}, 'KO': {'percent': 0.71}, 'CSCO': {'percent': 0.69}}\n"
    }
   ],
   "source": [
    "\n"
   ]
  },
  {
   "cell_type": "code",
   "execution_count": 105,
   "metadata": {},
   "outputs": [
    {
     "name": "stdout",
     "output_type": "stream",
     "text": "{'AAPL': {'percent': 4.37}, 'MSFT': {'percent': 3.99}, 'AMZN': {'percent': 2.56}, 'FB': {'percent': 1.64}, 'BRK.B': {'percent': 1.48}, 'JPM': {'percent': 1.45}, 'GOOG': {'percent': 1.34}, 'GOOGL': {'percent': 1.34}, 'JNJ': {'percent': 1.3}, 'V': {'percent': 1.08}, 'PG': {'percent': 1.03}, 'XOM': {'percent': 0.99}, 'BAC': {'percent': 0.96}, 'T': {'percent': 0.95}, 'UNH': {'percent': 0.93}, 'MA': {'percent': 0.89}, 'INTC': {'percent': 0.87}, 'VZ': {'percent': 0.85}, 'DIS': {'percent': 0.84}, 'HD': {'percent': 0.81}, 'MRK': {'percent': 0.78}, 'CVX': {'percent': 0.77}, 'PFE': {'percent': 0.73}, 'KO': {'percent': 0.71}, 'CSCO': {'percent': 0.69}}\n"
    }
   ],
   "source": [
    "print(asset_dict)\n",
    ""
   ]
  },
  {
   "cell_type": "code",
   "execution_count": 77,
   "metadata": {},
   "outputs": [],
   "source": [
    "\n"
   ]
  },
  {
   "cell_type": "code",
   "execution_count": null,
   "metadata": {},
   "outputs": [],
   "source": []
  }
 ]
}