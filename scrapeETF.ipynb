{
 "nbformat": 4,
 "nbformat_minor": 2,
 "metadata": {
  "language_info": {
   "name": "python",
   "codemirror_mode": {
    "name": "ipython",
    "version": 3
   },
   "version": "3.7.3-final"
  },
  "orig_nbformat": 2,
  "file_extension": ".py",
  "mimetype": "text/x-python",
  "name": "python",
  "npconvert_exporter": "python",
  "pygments_lexer": "ipython3",
  "version": 3,
  "kernelspec": {
   "name": "python37364bitbaseconda5994b4e167854476be8aec73de17ebc4",
   "display_name": "Python 3.7.3 64-bit ('base': conda)"
  }
 },
 "cells": [
  {
   "cell_type": "code",
   "execution_count": 83,
   "metadata": {},
   "outputs": [
    {
     "name": "stdout",
     "output_type": "stream",
     "text": "\nLooking for [chromedriver 79.0.3945.36 win32] driver in cache\nFile found in cache by path [C:\\Users\\lukes\\.wdm\\drivers\\chromedriver\\79.0.3945.36\\win32\\chromedriver.exe]\n"
    }
   ],
   "source": [
    "%matplotlib inline\n",
    "\n",
    "from bs4 import BeautifulSoup\n",
    "import matplotlib\n",
    "import matplotlib.pyplot as plt\n",
    "import re\n",
    "import requests\n",
    "import numpy as np\n",
    "import pandas as pd\n",
    "from selenium import webdriver\n",
    "from selenium.webdriver.chrome.webdriver import WebDriver\n",
    "from webdriver_manager.chrome import ChromeDriverManager\n",
    "import warnings\n",
    "\n",
    "driver = webdriver.Chrome(ChromeDriverManager().install())\n",
    "\n",
    "warnings.filterwarnings('ignore')\n",
    "\n",
    "\n",
    "def get_table(soup):\n",
    "    for t in soup.select('table'):\n",
    "        header = t.select('thead tr th')\n",
    "        if len(header) > 2:\n",
    "            if (header[0].get_text().strip() == 'Symbol'\n",
    "                and header[2].get_text().strip().startswith('% Holding')):\n",
    "                return t\n",
    "    raise Exception('could not find symbol list table')\n",
    "    \n",
    "# Scrapes ETF holdings from barchart.com\n",
    "def get_etf_holdings(etf_symbol):\n",
    "    '''\n",
    "    etf_symbol: str\n",
    "    \n",
    "    return: pd.DataFrame\n",
    "    '''\n",
    "    url = 'https://www.barchart.com/stocks/quotes/{}/constituents?page=all'.format(etf_symbol)\n",
    "\n",
    "    # Loads the ETF constituents page and reads the holdings table\n",
    "    browser = WebDriver() # webdriver.PhantomJS()\n",
    "    browser.get(url)\n",
    "    html = browser.page_source\n",
    "    soup = BeautifulSoup(html, 'html')\n",
    "    table = get_table(soup)\n",
    "\n",
    "    # Reads the holdings table line by line and appends each asset to a\n",
    "    # dictionary along with the holdings percentage\n",
    "    asset_dict = {}\n",
    "    for row in table.select('tr')[1:26]:\n",
    "        try:\n",
    "            cells = row.select('td')\n",
    "            # print(row)\n",
    "            symbol = cells[0].get_text().strip()\n",
    "            # print(symbol)\n",
    "            name = cells[1].text.strip()\n",
    "            celltext = cells[2].get_text().strip()\n",
    "            percent = float(celltext.rstrip('%'))\n",
    "            shares = int(cells[3].text.strip().replace(',', ''))\n",
    "            if symbol != \"\" and percent != 0.0:\n",
    "                asset_dict[symbol] = {\n",
    "                    'name': name,\n",
    "                    'percent': percent,\n",
    "                    'shares': shares,\n",
    "                }\n",
    "        except BaseException as ex:\n",
    "            print(ex)\n",
    "    browser.quit()\n",
    "    return pd.DataFrame(asset_dict)\n"
   ]
  },
  {
   "cell_type": "code",
   "execution_count": 84,
   "metadata": {},
   "outputs": [
    {
     "data": {
      "text/html": "<div>\n<style scoped>\n    .dataframe tbody tr th:only-of-type {\n        vertical-align: middle;\n    }\n\n    .dataframe tbody tr th {\n        vertical-align: top;\n    }\n\n    .dataframe thead th {\n        text-align: right;\n    }\n</style>\n<table border=\"1\" class=\"dataframe\">\n  <thead>\n    <tr style=\"text-align: right;\">\n      <th></th>\n      <th>name</th>\n      <th>percent</th>\n      <th>shares</th>\n    </tr>\n  </thead>\n  <tbody>\n    <tr>\n      <th>AAPL</th>\n      <td>Apple Inc.</td>\n      <td>4.37</td>\n      <td>591423</td>\n    </tr>\n    <tr>\n      <th>MSFT</th>\n      <td>Microsoft Corp.</td>\n      <td>3.99</td>\n      <td>1006217</td>\n    </tr>\n    <tr>\n      <th>AMZN</th>\n      <td>Amazon.com Inc.</td>\n      <td>2.56</td>\n      <td>55050</td>\n    </tr>\n    <tr>\n      <th>FB</th>\n      <td>Facebook Inc.</td>\n      <td>1.64</td>\n      <td>318066</td>\n    </tr>\n    <tr>\n      <th>BRK.B</th>\n      <td>Berkshire Hathaway Inc.</td>\n      <td>1.48</td>\n      <td>260098</td>\n    </tr>\n    <tr>\n      <th>JPM</th>\n      <td>JPMorgan Chase &amp; Co.</td>\n      <td>1.45</td>\n      <td>414630</td>\n    </tr>\n    <tr>\n      <th>GOOG</th>\n      <td>Alphabet Inc. Class C</td>\n      <td>1.34</td>\n      <td>40007</td>\n    </tr>\n    <tr>\n      <th>GOOGL</th>\n      <td>Alphabet Inc.</td>\n      <td>1.34</td>\n      <td>39730</td>\n    </tr>\n    <tr>\n      <th>JNJ</th>\n      <td>Johnson &amp; Johnson</td>\n      <td>1.3</td>\n      <td>353453</td>\n    </tr>\n    <tr>\n      <th>V</th>\n      <td>Visa Inc.</td>\n      <td>1.08</td>\n      <td>227871</td>\n    </tr>\n    <tr>\n      <th>PG</th>\n      <td>Procter &amp; Gamble Co.</td>\n      <td>1.03</td>\n      <td>328753</td>\n    </tr>\n    <tr>\n      <th>XOM</th>\n      <td>Exxon Mobil Corp.</td>\n      <td>0.99</td>\n      <td>563761</td>\n    </tr>\n    <tr>\n      <th>BAC</th>\n      <td>Bank of America Corp.</td>\n      <td>0.96</td>\n      <td>1083776</td>\n    </tr>\n    <tr>\n      <th>T</th>\n      <td>AT&amp;T Inc.</td>\n      <td>0.95</td>\n      <td>971563</td>\n    </tr>\n    <tr>\n      <th>UNH</th>\n      <td>UnitedHealth Group Inc.</td>\n      <td>0.93</td>\n      <td>125843</td>\n    </tr>\n    <tr>\n      <th>MA</th>\n      <td>Mastercard Inc.</td>\n      <td>0.89</td>\n      <td>117942</td>\n    </tr>\n    <tr>\n      <th>INTC</th>\n      <td>Intel Corp.</td>\n      <td>0.87</td>\n      <td>579455</td>\n    </tr>\n    <tr>\n      <th>VZ</th>\n      <td>Verizon Communications Inc.</td>\n      <td>0.85</td>\n      <td>550443</td>\n    </tr>\n    <tr>\n      <th>DIS</th>\n      <td>Walt Disney Co.</td>\n      <td>0.84</td>\n      <td>232345</td>\n    </tr>\n    <tr>\n      <th>HD</th>\n      <td>Home Depot Inc.</td>\n      <td>0.81</td>\n      <td>146821</td>\n    </tr>\n    <tr>\n      <th>MRK</th>\n      <td>Merck &amp; Co. Inc.</td>\n      <td>0.78</td>\n      <td>339104</td>\n    </tr>\n    <tr>\n      <th>CVX</th>\n      <td>Chevron Corp.</td>\n      <td>0.77</td>\n      <td>253788</td>\n    </tr>\n    <tr>\n      <th>PFE</th>\n      <td>Pfizer Inc.</td>\n      <td>0.73</td>\n      <td>740997</td>\n    </tr>\n    <tr>\n      <th>KO</th>\n      <td>Coca-Cola Co.</td>\n      <td>0.71</td>\n      <td>510149</td>\n    </tr>\n    <tr>\n      <th>CSCO</th>\n      <td>Cisco Systems Inc.</td>\n      <td>0.69</td>\n      <td>570630</td>\n    </tr>\n  </tbody>\n</table>\n</div>",
      "text/plain": "                              name percent   shares\nAAPL                    Apple Inc.    4.37   591423\nMSFT               Microsoft Corp.    3.99  1006217\nAMZN               Amazon.com Inc.    2.56    55050\nFB                   Facebook Inc.    1.64   318066\nBRK.B      Berkshire Hathaway Inc.    1.48   260098\nJPM           JPMorgan Chase & Co.    1.45   414630\nGOOG         Alphabet Inc. Class C    1.34    40007\nGOOGL                Alphabet Inc.    1.34    39730\nJNJ              Johnson & Johnson     1.3   353453\nV                        Visa Inc.    1.08   227871\nPG            Procter & Gamble Co.    1.03   328753\nXOM              Exxon Mobil Corp.    0.99   563761\nBAC          Bank of America Corp.    0.96  1083776\nT                        AT&T Inc.    0.95   971563\nUNH        UnitedHealth Group Inc.    0.93   125843\nMA                 Mastercard Inc.    0.89   117942\nINTC                   Intel Corp.    0.87   579455\nVZ     Verizon Communications Inc.    0.85   550443\nDIS                Walt Disney Co.    0.84   232345\nHD                 Home Depot Inc.    0.81   146821\nMRK               Merck & Co. Inc.    0.78   339104\nCVX                  Chevron Corp.    0.77   253788\nPFE                    Pfizer Inc.    0.73   740997\nKO                   Coca-Cola Co.    0.71   510149\nCSCO            Cisco Systems Inc.    0.69   570630"
     },
     "execution_count": 84,
     "metadata": {},
     "output_type": "execute_result"
    }
   ],
   "source": [
    "constituent = get_etf_holdings('VONE')\n",
    "\n",
    "constituent.T\n"
   ]
  },
  {
   "cell_type": "code",
   "execution_count": 77,
   "metadata": {},
   "outputs": [],
   "source": [
    "\n"
   ]
  },
  {
   "cell_type": "code",
   "execution_count": null,
   "metadata": {},
   "outputs": [],
   "source": []
  }
 ]
}