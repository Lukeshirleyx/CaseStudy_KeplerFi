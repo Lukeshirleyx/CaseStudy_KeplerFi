{
 "nbformat": 4,
 "nbformat_minor": 2,
 "metadata": {
  "language_info": {
   "name": "python",
   "codemirror_mode": {
    "name": "ipython",
    "version": 3
   },
   "version": "3.7.3-final"
  },
  "orig_nbformat": 2,
  "file_extension": ".py",
  "mimetype": "text/x-python",
  "name": "python",
  "npconvert_exporter": "python",
  "pygments_lexer": "ipython3",
  "version": 3,
  "kernelspec": {
   "name": "python37364bitbaseconda5994b4e167854476be8aec73de17ebc4",
   "display_name": "Python 3.7.3 64-bit ('base': conda)"
  }
 },
 "cells": [
  {
   "cell_type": "code",
   "execution_count": 3,
   "metadata": {},
   "outputs": [],
   "source": [
    "%matplotlib inline\n",
    "\n",
    "from bs4 import BeautifulSoup\n",
    "import iexfinance\n",
    "import matplotlib\n",
    "import matplotlib.pyplot as plt\n",
    "import re\n",
    "import requests\n",
    "import numpy as np\n",
    "import pandas as pd\n",
    "from selenium.webdriver.chrome.webdriver import WebDriver\n",
    "import warnings\n",
    "\n",
    "driver = webdriver.Chrome(executable_path=r\"C:\\Users\\lukes\\Anaconda3\\Lib\\site-packages\\chromedriver.exe\")\n",
    "\n",
    "warnings.filterwarnings('ignore')\n",
    "\n",
    "\n",
    "def get_table(soup):\n",
    "    for t in soup.select('table'):\n",
    "        header = t.select('thead tr th')\n",
    "        if len(header) > 2:\n",
    "            if (header[0].get_text().strip() == 'Symbol'\n",
    "                and header[2].get_text().strip().startswith('% Holding')):\n",
    "                return t\n",
    "    raise Exception('could not find symbol list table')\n",
    "    \n",
    "# Scrapes ETF holdings from barchart.com\n",
    "def get_etf_holdings(etf_symbol):\n",
    "    '''\n",
    "    etf_symbol: str\n",
    "    \n",
    "    return: pd.DataFrame\n",
    "    '''\n",
    "    url = 'https://www.barchart.com/stocks/quotes/{}/constituents?page=all'.format(etf_symbol)\n",
    "\n",
    "    # Loads the ETF constituents page and reads the holdings table\n",
    "    browser = WebDriver() # webdriver.PhantomJS()\n",
    "    browser.get(url)\n",
    "    html = browser.page_source\n",
    "    soup = BeautifulSoup(html, 'html')\n",
    "    table = get_table(soup)\n",
    "\n",
    "    # Reads the holdings table line by line and appends each asset to a\n",
    "    # dictionary along with the holdings percentage\n",
    "    asset_dict = {}\n",
    "    for row in table.select('tr')[1:-1]:\n",
    "        try:\n",
    "            cells = row.select('td')\n",
    "            # print(row)\n",
    "            symbol = cells[0].get_text().strip()\n",
    "            # print(symbol)\n",
    "            name = cells[1].text.strip()\n",
    "            celltext = cells[2].get_text().strip()\n",
    "            percent = float(celltext.rstrip('%'))\n",
    "            shares = int(cells[3].text.strip().replace(',', ''))\n",
    "            if symbol != \"\" and percent != 0.0:\n",
    "                asset_dict[symbol] = {\n",
    "                    'name': name,\n",
    "                    'percent': percent,\n",
    "                    'shares': shares,\n",
    "                }\n",
    "        except BaseException as ex:\n",
    "            print(ex)\n",
    "    browser.quit()\n",
    "    return pd.DataFrame(asset_dict)\n"
   ]
  },
  {
   "cell_type": "code",
   "execution_count": 12,
   "metadata": {},
   "outputs": [
    {
     "data": {
      "text/html": "<div>\n<style scoped>\n    .dataframe tbody tr th:only-of-type {\n        vertical-align: middle;\n    }\n\n    .dataframe tbody tr th {\n        vertical-align: top;\n    }\n\n    .dataframe thead th {\n        text-align: right;\n    }\n</style>\n<table border=\"1\" class=\"dataframe\">\n  <thead>\n    <tr style=\"text-align: right;\">\n      <th></th>\n      <th>name</th>\n      <th>percent</th>\n      <th>shares</th>\n    </tr>\n  </thead>\n  <tbody>\n    <tr>\n      <th>AAPL</th>\n      <td>Apple Inc.</td>\n      <td>4.37</td>\n      <td>591423</td>\n    </tr>\n    <tr>\n      <th>MSFT</th>\n      <td>Microsoft Corp.</td>\n      <td>3.99</td>\n      <td>1006217</td>\n    </tr>\n    <tr>\n      <th>AMZN</th>\n      <td>Amazon.com Inc.</td>\n      <td>2.56</td>\n      <td>55050</td>\n    </tr>\n    <tr>\n      <th>FB</th>\n      <td>Facebook Inc.</td>\n      <td>1.64</td>\n      <td>318066</td>\n    </tr>\n    <tr>\n      <th>BRK.B</th>\n      <td>Berkshire Hathaway Inc.</td>\n      <td>1.48</td>\n      <td>260098</td>\n    </tr>\n    <tr>\n      <th>JPM</th>\n      <td>JPMorgan Chase &amp; Co.</td>\n      <td>1.45</td>\n      <td>414630</td>\n    </tr>\n    <tr>\n      <th>GOOG</th>\n      <td>Alphabet Inc. Class C</td>\n      <td>1.34</td>\n      <td>40007</td>\n    </tr>\n    <tr>\n      <th>GOOGL</th>\n      <td>Alphabet Inc.</td>\n      <td>1.34</td>\n      <td>39730</td>\n    </tr>\n    <tr>\n      <th>JNJ</th>\n      <td>Johnson &amp; Johnson</td>\n      <td>1.3</td>\n      <td>353453</td>\n    </tr>\n    <tr>\n      <th>V</th>\n      <td>Visa Inc.</td>\n      <td>1.08</td>\n      <td>227871</td>\n    </tr>\n    <tr>\n      <th>PG</th>\n      <td>Procter &amp; Gamble Co.</td>\n      <td>1.03</td>\n      <td>328753</td>\n    </tr>\n    <tr>\n      <th>XOM</th>\n      <td>Exxon Mobil Corp.</td>\n      <td>0.99</td>\n      <td>563761</td>\n    </tr>\n    <tr>\n      <th>BAC</th>\n      <td>Bank of America Corp.</td>\n      <td>0.96</td>\n      <td>1083776</td>\n    </tr>\n    <tr>\n      <th>T</th>\n      <td>AT&amp;T Inc.</td>\n      <td>0.95</td>\n      <td>971563</td>\n    </tr>\n    <tr>\n      <th>UNH</th>\n      <td>UnitedHealth Group Inc.</td>\n      <td>0.93</td>\n      <td>125843</td>\n    </tr>\n    <tr>\n      <th>MA</th>\n      <td>Mastercard Inc.</td>\n      <td>0.89</td>\n      <td>117942</td>\n    </tr>\n    <tr>\n      <th>INTC</th>\n      <td>Intel Corp.</td>\n      <td>0.87</td>\n      <td>579455</td>\n    </tr>\n    <tr>\n      <th>VZ</th>\n      <td>Verizon Communications Inc.</td>\n      <td>0.85</td>\n      <td>550443</td>\n    </tr>\n    <tr>\n      <th>DIS</th>\n      <td>Walt Disney Co.</td>\n      <td>0.84</td>\n      <td>232345</td>\n    </tr>\n    <tr>\n      <th>HD</th>\n      <td>Home Depot Inc.</td>\n      <td>0.81</td>\n      <td>146821</td>\n    </tr>\n    <tr>\n      <th>MRK</th>\n      <td>Merck &amp; Co. Inc.</td>\n      <td>0.78</td>\n      <td>339104</td>\n    </tr>\n    <tr>\n      <th>CVX</th>\n      <td>Chevron Corp.</td>\n      <td>0.77</td>\n      <td>253788</td>\n    </tr>\n    <tr>\n      <th>PFE</th>\n      <td>Pfizer Inc.</td>\n      <td>0.73</td>\n      <td>740997</td>\n    </tr>\n    <tr>\n      <th>KO</th>\n      <td>Coca-Cola Co.</td>\n      <td>0.71</td>\n      <td>510149</td>\n    </tr>\n    <tr>\n      <th>CSCO</th>\n      <td>Cisco Systems Inc.</td>\n      <td>0.69</td>\n      <td>570630</td>\n    </tr>\n    <tr>\n      <th>WFC</th>\n      <td>Wells Fargo &amp; Co.</td>\n      <td>0.69</td>\n      <td>507193</td>\n    </tr>\n    <tr>\n      <th>CMCSA</th>\n      <td>Comcast Corp.</td>\n      <td>0.68</td>\n      <td>599899</td>\n    </tr>\n    <tr>\n      <th>PEP</th>\n      <td>PepsiCo Inc.</td>\n      <td>0.64</td>\n      <td>186413</td>\n    </tr>\n    <tr>\n      <th>C</th>\n      <td>Citigroup Inc.</td>\n      <td>0.58</td>\n      <td>291008</td>\n    </tr>\n    <tr>\n      <th>BA</th>\n      <td>Boeing Co.</td>\n      <td>0.58</td>\n      <td>70453</td>\n    </tr>\n    <tr>\n      <th>...</th>\n      <td>...</td>\n      <td>...</td>\n      <td>...</td>\n    </tr>\n    <tr>\n      <th>PINC</th>\n      <td>Premier Inc.</td>\n      <td>0.01</td>\n      <td>8268</td>\n    </tr>\n    <tr>\n      <th>SC</th>\n      <td>Santander Consumer USA Holdings Inc.</td>\n      <td>0.01</td>\n      <td>13392</td>\n    </tr>\n    <tr>\n      <th>UFS</th>\n      <td>Domtar Corp.</td>\n      <td>0.01</td>\n      <td>8120</td>\n    </tr>\n    <tr>\n      <th>CLNY</th>\n      <td>Colony Capital Inc.</td>\n      <td>0.01</td>\n      <td>63792</td>\n    </tr>\n    <tr>\n      <th>TREE</th>\n      <td>LendingTree Inc.</td>\n      <td>0.01</td>\n      <td>992</td>\n    </tr>\n    <tr>\n      <th>SFM</th>\n      <td>Sprouts Farmers Market Inc.</td>\n      <td>0.01</td>\n      <td>15481</td>\n    </tr>\n    <tr>\n      <th>NUS</th>\n      <td>Nu Skin Enterprises Inc.</td>\n      <td>0.01</td>\n      <td>7282</td>\n    </tr>\n    <tr>\n      <th>JW.A</th>\n      <td>John Wiley &amp; Sons Inc.</td>\n      <td>0.01</td>\n      <td>6132</td>\n    </tr>\n    <tr>\n      <th>TRN</th>\n      <td>Trinity Industries Inc.</td>\n      <td>0.01</td>\n      <td>13409</td>\n    </tr>\n    <tr>\n      <th>MD</th>\n      <td>MEDNAX Inc.</td>\n      <td>0.01</td>\n      <td>10363</td>\n    </tr>\n    <tr>\n      <th>HAIN</th>\n      <td>Hain Celestial Group Inc.</td>\n      <td>0.01</td>\n      <td>10987</td>\n    </tr>\n    <tr>\n      <th>BF.A</th>\n      <td>Brown-Forman Corp. Class A</td>\n      <td>0.01</td>\n      <td>4353</td>\n    </tr>\n    <tr>\n      <th>AM</th>\n      <td>Antero Midstream Corp.</td>\n      <td>0.01</td>\n      <td>35363</td>\n    </tr>\n    <tr>\n      <th>SATS</th>\n      <td>EchoStar Corp.</td>\n      <td>0.01</td>\n      <td>6131</td>\n    </tr>\n    <tr>\n      <th>KOS</th>\n      <td>Kosmos Energy Ltd.</td>\n      <td>0.01</td>\n      <td>46185</td>\n    </tr>\n    <tr>\n      <th>PTEN</th>\n      <td>Patterson-UTI Energy Inc.</td>\n      <td>0.01</td>\n      <td>25008</td>\n    </tr>\n    <tr>\n      <th>ESRT</th>\n      <td>Empire State Realty Trust Inc.</td>\n      <td>0.01</td>\n      <td>18637</td>\n    </tr>\n    <tr>\n      <th>SITC</th>\n      <td>SITE Centers Corp.</td>\n      <td>0.01</td>\n      <td>18455</td>\n    </tr>\n    <tr>\n      <th>SBGI</th>\n      <td>Sinclair Broadcast Group Inc.</td>\n      <td>0.01</td>\n      <td>7621</td>\n    </tr>\n    <tr>\n      <th>PPC</th>\n      <td>Pilgrims Pride Corp.</td>\n      <td>0.01</td>\n      <td>7621</td>\n    </tr>\n    <tr>\n      <th>OI</th>\n      <td>O-I Glass Inc.</td>\n      <td>0.01</td>\n      <td>20747</td>\n    </tr>\n    <tr>\n      <th>X</th>\n      <td>United States Steel Corp.</td>\n      <td>0.01</td>\n      <td>21404</td>\n    </tr>\n    <tr>\n      <th>PAG</th>\n      <td>Penske Automotive Group Inc.</td>\n      <td>0.01</td>\n      <td>4764</td>\n    </tr>\n    <tr>\n      <th>TCO</th>\n      <td>Taubman Centers Inc.</td>\n      <td>0.01</td>\n      <td>7674</td>\n    </tr>\n    <tr>\n      <th>URBN</th>\n      <td>Urban Outfitters Inc.</td>\n      <td>0.01</td>\n      <td>8429</td>\n    </tr>\n    <tr>\n      <th>BGCP</th>\n      <td>BGC Partners Inc.</td>\n      <td>0.01</td>\n      <td>38181</td>\n    </tr>\n    <tr>\n      <th>AMCX</th>\n      <td>AMC Networks Inc.</td>\n      <td>0.01</td>\n      <td>5581</td>\n    </tr>\n    <tr>\n      <th>UI</th>\n      <td>Ubiquiti Inc.</td>\n      <td>0.01</td>\n      <td>1138</td>\n    </tr>\n    <tr>\n      <th>DT</th>\n      <td>Dynatrace Inc.</td>\n      <td>0.01</td>\n      <td>8448</td>\n    </tr>\n    <tr>\n      <th>IGT</th>\n      <td>International Game Technology plc</td>\n      <td>0.01</td>\n      <td>14189</td>\n    </tr>\n  </tbody>\n</table>\n<p>960 rows × 3 columns</p>\n</div>",
      "text/plain": "                                       name percent   shares\nAAPL                             Apple Inc.    4.37   591423\nMSFT                        Microsoft Corp.    3.99  1006217\nAMZN                        Amazon.com Inc.    2.56    55050\nFB                            Facebook Inc.    1.64   318066\nBRK.B               Berkshire Hathaway Inc.    1.48   260098\nJPM                    JPMorgan Chase & Co.    1.45   414630\nGOOG                  Alphabet Inc. Class C    1.34    40007\nGOOGL                         Alphabet Inc.    1.34    39730\nJNJ                       Johnson & Johnson     1.3   353453\nV                                 Visa Inc.    1.08   227871\nPG                     Procter & Gamble Co.    1.03   328753\nXOM                       Exxon Mobil Corp.    0.99   563761\nBAC                   Bank of America Corp.    0.96  1083776\nT                                 AT&T Inc.    0.95   971563\nUNH                 UnitedHealth Group Inc.    0.93   125843\nMA                          Mastercard Inc.    0.89   117942\nINTC                            Intel Corp.    0.87   579455\nVZ              Verizon Communications Inc.    0.85   550443\nDIS                         Walt Disney Co.    0.84   232345\nHD                          Home Depot Inc.    0.81   146821\nMRK                        Merck & Co. Inc.    0.78   339104\nCVX                           Chevron Corp.    0.77   253788\nPFE                             Pfizer Inc.    0.73   740997\nKO                            Coca-Cola Co.    0.71   510149\nCSCO                     Cisco Systems Inc.    0.69   570630\nWFC                       Wells Fargo & Co.    0.69   507193\nCMCSA                         Comcast Corp.    0.68   599899\nPEP                            PepsiCo Inc.    0.64   186413\nC                            Citigroup Inc.    0.58   291008\nBA                               Boeing Co.    0.58    70453\n...                                     ...     ...      ...\nPINC                           Premier Inc.    0.01     8268\nSC     Santander Consumer USA Holdings Inc.    0.01    13392\nUFS                            Domtar Corp.    0.01     8120\nCLNY                    Colony Capital Inc.    0.01    63792\nTREE                       LendingTree Inc.    0.01      992\nSFM             Sprouts Farmers Market Inc.    0.01    15481\nNUS                Nu Skin Enterprises Inc.    0.01     7282\nJW.A                 John Wiley & Sons Inc.    0.01     6132\nTRN                 Trinity Industries Inc.    0.01    13409\nMD                              MEDNAX Inc.    0.01    10363\nHAIN              Hain Celestial Group Inc.    0.01    10987\nBF.A             Brown-Forman Corp. Class A    0.01     4353\nAM                   Antero Midstream Corp.    0.01    35363\nSATS                         EchoStar Corp.    0.01     6131\nKOS                      Kosmos Energy Ltd.    0.01    46185\nPTEN              Patterson-UTI Energy Inc.    0.01    25008\nESRT         Empire State Realty Trust Inc.    0.01    18637\nSITC                     SITE Centers Corp.    0.01    18455\nSBGI          Sinclair Broadcast Group Inc.    0.01     7621\nPPC                    Pilgrims Pride Corp.    0.01     7621\nOI                           O-I Glass Inc.    0.01    20747\nX                 United States Steel Corp.    0.01    21404\nPAG            Penske Automotive Group Inc.    0.01     4764\nTCO                    Taubman Centers Inc.    0.01     7674\nURBN                  Urban Outfitters Inc.    0.01     8429\nBGCP                      BGC Partners Inc.    0.01    38181\nAMCX                      AMC Networks Inc.    0.01     5581\nUI                            Ubiquiti Inc.    0.01     1138\nDT                           Dynatrace Inc.    0.01     8448\nIGT       International Game Technology plc    0.01    14189\n\n[960 rows x 3 columns]"
     },
     "execution_count": 12,
     "metadata": {},
     "output_type": "execute_result"
    }
   ],
   "source": [
    "constituent = get_etf_holdings('VONE')\n",
    "\n",
    "constituent.T\n"
   ]
  },
  {
   "cell_type": "code",
   "execution_count": null,
   "metadata": {},
   "outputs": [],
   "source": []
  }
 ]
}